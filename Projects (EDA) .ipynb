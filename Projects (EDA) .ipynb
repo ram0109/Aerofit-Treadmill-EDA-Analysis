{
 "cells": [
  {
   "cell_type": "markdown",
   "id": "ab078396",
   "metadata": {},
   "source": [
    "# Aerofit Treadmill EDA Analysis Project Document\n",
    "\n",
    "## Introduction\n",
    "\n",
    "### Background\n",
    "Aerofit is a prominent brand in the fitness equipment industry, offering a wide range of products, including treadmills, exercise bikes, gym equipment, and fitness accessories. This project aims to address a critical business challenge: identifying the characteristics of the target audience for each type of treadmill offered by Aerofit. The goal is to provide more informed recommendations to new customers based on their profiles.\n",
    "\n",
    "## Data Description\n",
    "\n",
    "### Dataset Features\n",
    "- Product Purchased: KP281, KP481, KP781\n",
    "- Age: Customer's age in years\n",
    "- Gender: Male or Female\n",
    "- Education: Customer's education level in years\n",
    "- Marital Status: Single or Partnered\n",
    "- Usage: Average number of times the customer plans to use the treadmill each week\n",
    "- Income: Customer's annual income in USD\n",
    "- Fitness: Self-rated fitness level on a scale from 1 (poor) to 5 (excellent)\n",
    "- Miles: Average number of miles the customer expects to walk/run each week\\\\\n",
    "\n",
    "The KP281 is an entry-level treadmill that sells for $1,500.\n",
    "\n",
    "The KP481 is for mid-level runners that sell for $1,750.\n",
    "\n",
    "The KP781 treadmill is having advanced features that sell for $2,500.\n",
    "\n",
    "\n",
    "## Data Preprocessing\n",
    "\n",
    "### Data Cleaning\n",
    "- Check for missing values in the dataset\n",
    "\n",
    "### Summary Statistics, Descriptive Analytics, Customer Profiles\n",
    "1. **Customer Age:**\n",
    "   - What is the median age of Aerofit's customers, and what does this suggest about the target audience?\n",
    "   - **Expected Output:** Median Age = 26 years; Indicates a relatively young target audience.\n",
    "\n",
    "2. **Gender and Marital Status:**\n",
    "   - What is the predominant gender and marital status among Aerofit's customers?\n",
    "   - Is there a notable difference in purchasing behavior between male and female customers?\n",
    "   - **Expected Output:** Predominant Gender = Male; Predominant Marital Status = Married; Analyze gender-based buying patterns.\n",
    "\n",
    "3. **Product Preferences:**\n",
    "   - Which Aerofit treadmill product is the highest-selling, and what could be the reasons for its popularity?\n",
    "   - Are there significant differences in fitness levels among customers for different treadmill products?\n",
    "   - **Expected Output:** Highest-Selling Product = KP281; Analyze factors contributing to its popularity; Compare fitness levels among product users.\n",
    "\n",
    "4. **Customer Income and Education:**\n",
    "   - What is the median income of Aerofit's customers, and how might this relate to their purchasing decisions?\n",
    "   - What is the average education level of Aerofit's customers, and does it impact their product choices?\n",
    "   - **Expected Output:** Median Income = $50,596.50; Average Education = 15-16 years; Investigate income's role in product choices; Examine education's impact.\n",
    "\n",
    "5. **Correlations:**\n",
    "   - What are the key correlations observed in the data (e.g., fitness level and miles run, product price and income)?\n",
    "   - How do these correlations provide insights into customer behavior?\n",
    "   - **Expected Output:** Correlations between Fitness & Miles = 0.786, Product_price & Income = 0.696; Interpret these correlations in terms of customer behavior.\n",
    "\n",
    "6. **Revenue Generation:**\n",
    "   - Determine which Aerofit treadmill product generates the highest revenue and compare it to others.\n",
    "   - **Expected Output:** Highest Revenue-Generating Product = KP281; Revenue Comparison with other products.\n",
    "\n",
    "7. **Marginal Probabilities:**\n",
    "   - Calculate probabilities of male and female customers purchasing each treadmill product.\n",
    "   - **Expected Output:** Probability of Male Customer Purchasing KP281 = 38.46%, Probability of Female Customer Purchasing KP781 = 9.21%; Compare male and female purchasing probabilities for all products.\n",
    "\n",
    "8. **Product Recommendations:**\n",
    "   - Based on the data, provide recommendations for each treadmill product.\n",
    "   - Specify which product is suitable for female customers and for single customers who exercise more.\n",
    "   - **Expected Output:** Recommend KP281 for females; Recommend KP781 for single customers who exercise more.\n",
    "\n",
    "9. **Exercise Patterns:**\n",
    "   - Analyze insights from the average miles run by customers for different products.\n",
    "   - **Expected Output:** Identify exercise patterns and preferences for each product based on average miles run.\n",
    "\n",
    "10. **Fitness Levels and Income:**\n",
    "    - Explore the relationship between fitness levels and income, and its impact on product preferences.\n",
    "    - **Expected Output:** Describe how fitness levels and income influence product choices.\n",
    "\n",
    "11. **Usage Frequency:**\n",
    "    - Determine the relationship between usage frequency and the choice of treadmill product.\n",
    "    - Identify which product is favored by customers who use the treadmill 4 to 6 days a week.\n",
    "    - **Expected Output:** Relate usage frequency to product choice; Recommend a product for frequent users.\n",
    "\n",
    "12. **Correlation Between Income and Product Price:**\n",
    "    - Explain the correlation between income and product price.\n",
    "\n",
    "## Insights and Recommendations\n",
    "\n",
    "1. **KP281 Customer Profile:**\n",
    "   - What are the key characteristics of customers who prefer KP281?\n",
    "   - **Hint:** Entry-level product, popular among both genders, average fitness level, and age groups.\n",
    "\n",
    "2. **KP481 Customer Profile:**\n",
    "   - Describe the customer profile for KP481. What sets them apart from other product users?\n",
    "   - **Hint:** Intermediate price range, preferred by females, different fitness levels, and specific age groups.\n",
    "\n",
    "3. **KP781 Customer Profile:**\n",
    "   - Who are the primary users of KP781, and what distinguishes them from customers of other products?\n",
    "   - **Hint:** Extensive exercise, high price, primarily used by singles, age demographics.\n",
    "\n",
    "4. **Usage Patterns - KP281:**\n",
    "   - What are the typical usage patterns for KP281 users in terms of weekly frequency and miles run?\n",
    "   - **Hint:** 3 to 4 times a week, 70 to 90 miles on average.\n",
    "\n",
    "5. **Usage Patterns - KP481:**\n",
    "   - How do KP481 users differ in their usage patterns compared to other product users?\n",
    "   - **Hint:** Less frequent usage but more miles run (70 to 130 or more miles per week).\n",
    "\n",
    "6. **Usage Patterns - KP781:**\n",
    "   - What distinguishes the usage patterns of KP781 users, and how often do they exercise?\n",
    "   - **Hint:** 4 to 5 times a week, 120 to 200 or more miles on average.\n",
    "\n",
    "7. **Fitness Levels - KP781:**\n",
    "   - How does fitness level relate to the preference for KP781, and what is the probability of someone in excellent shape using this product?\n",
    "   - **Hint:** More than 90% probability for those in excellent shape.\n",
    "\n",
    "8. **Gender Preferences - KP781:**\n",
    "   - Explore the gender-based preferences for KP781 and the significant differences in purchase probability.\n",
    "   - **Hint:** Higher purchase probability for males; significant female usage for extensive exercise.\n",
    "\n",
    "9. **Marital Status and Product Recommendation - KP781:**\n",
    "   - Why is KP781 recommended for single customers, and how does their purchase probability compare to married customers?\n",
    "   - **Hint:** Higher purchase probability for singles, extensive exercise, and higher miles.\n",
    "\n",
    "10. **Age Categories - KP781:**\n",
    "    - Which age groups are more likely to use KP781, and what does this tell us about the target audience?\n",
    "    - **Hint:** Mostly used by older adults and mid-age individuals.\n",
    "\n",
    "11. **Product Recommendations for KP781:**\n",
    "    - Summarize the recommendations for KP781 based on user characteristics and preferences.\n",
    "    - **Hint:** Recommend to users who exercise/run frequently, run more miles, and have high income.\n",
    "\n",
    "12. **Product Recommendations for KP481:**\n",
    "    - Provide recommendations for KP481, considering its unique characteristics and customer preferences.\n",
    "    - **Hint:** Recommend to female customers who run/walk more miles; suggest improvements for better customer experience.\n",
    "\n",
    "## Conclusion\n",
    "\n",
    "- Summarized the main takeaways from the EDA case study\n",
    "- Highlighted the importance of data-driven decision-making in marketing and product development"
   ]
  },
  {
   "cell_type": "code",
   "execution_count": 18,
   "id": "f1309971",
   "metadata": {},
   "outputs": [],
   "source": [
    "import pandas as pd\n",
    "import numpy as np\n",
    "import matplotlib.pyplot as plt"
   ]
  },
  {
   "cell_type": "code",
   "execution_count": 19,
   "id": "01116066",
   "metadata": {},
   "outputs": [],
   "source": [
    "df = pd.read_csv('aerofit_treadmill.csv')"
   ]
  },
  {
   "cell_type": "code",
   "execution_count": 20,
   "id": "9486a6c4",
   "metadata": {},
   "outputs": [
    {
     "data": {
      "text/html": [
       "<div>\n",
       "<style scoped>\n",
       "    .dataframe tbody tr th:only-of-type {\n",
       "        vertical-align: middle;\n",
       "    }\n",
       "\n",
       "    .dataframe tbody tr th {\n",
       "        vertical-align: top;\n",
       "    }\n",
       "\n",
       "    .dataframe thead th {\n",
       "        text-align: right;\n",
       "    }\n",
       "</style>\n",
       "<table border=\"1\" class=\"dataframe\">\n",
       "  <thead>\n",
       "    <tr style=\"text-align: right;\">\n",
       "      <th></th>\n",
       "      <th>Product</th>\n",
       "      <th>Age</th>\n",
       "      <th>Gender</th>\n",
       "      <th>Education</th>\n",
       "      <th>MaritalStatus</th>\n",
       "      <th>Usage</th>\n",
       "      <th>Fitness</th>\n",
       "      <th>Income</th>\n",
       "      <th>Miles</th>\n",
       "    </tr>\n",
       "  </thead>\n",
       "  <tbody>\n",
       "    <tr>\n",
       "      <th>0</th>\n",
       "      <td>KP281</td>\n",
       "      <td>18</td>\n",
       "      <td>Male</td>\n",
       "      <td>14</td>\n",
       "      <td>Single</td>\n",
       "      <td>3</td>\n",
       "      <td>4</td>\n",
       "      <td>29562</td>\n",
       "      <td>112</td>\n",
       "    </tr>\n",
       "    <tr>\n",
       "      <th>1</th>\n",
       "      <td>KP281</td>\n",
       "      <td>19</td>\n",
       "      <td>Male</td>\n",
       "      <td>15</td>\n",
       "      <td>Single</td>\n",
       "      <td>2</td>\n",
       "      <td>3</td>\n",
       "      <td>31836</td>\n",
       "      <td>75</td>\n",
       "    </tr>\n",
       "    <tr>\n",
       "      <th>2</th>\n",
       "      <td>KP281</td>\n",
       "      <td>19</td>\n",
       "      <td>Female</td>\n",
       "      <td>14</td>\n",
       "      <td>Partnered</td>\n",
       "      <td>4</td>\n",
       "      <td>3</td>\n",
       "      <td>30699</td>\n",
       "      <td>66</td>\n",
       "    </tr>\n",
       "    <tr>\n",
       "      <th>3</th>\n",
       "      <td>KP281</td>\n",
       "      <td>19</td>\n",
       "      <td>Male</td>\n",
       "      <td>12</td>\n",
       "      <td>Single</td>\n",
       "      <td>3</td>\n",
       "      <td>3</td>\n",
       "      <td>32973</td>\n",
       "      <td>85</td>\n",
       "    </tr>\n",
       "    <tr>\n",
       "      <th>4</th>\n",
       "      <td>KP281</td>\n",
       "      <td>20</td>\n",
       "      <td>Male</td>\n",
       "      <td>13</td>\n",
       "      <td>Partnered</td>\n",
       "      <td>4</td>\n",
       "      <td>2</td>\n",
       "      <td>35247</td>\n",
       "      <td>47</td>\n",
       "    </tr>\n",
       "  </tbody>\n",
       "</table>\n",
       "</div>"
      ],
      "text/plain": [
       "  Product  Age  Gender  Education MaritalStatus  Usage  Fitness  Income  Miles\n",
       "0   KP281   18    Male         14        Single      3        4   29562    112\n",
       "1   KP281   19    Male         15        Single      2        3   31836     75\n",
       "2   KP281   19  Female         14     Partnered      4        3   30699     66\n",
       "3   KP281   19    Male         12        Single      3        3   32973     85\n",
       "4   KP281   20    Male         13     Partnered      4        2   35247     47"
      ]
     },
     "execution_count": 20,
     "metadata": {},
     "output_type": "execute_result"
    }
   ],
   "source": [
    "df.head()"
   ]
  },
  {
   "cell_type": "markdown",
   "id": "52fd634f",
   "metadata": {},
   "source": [
    "Checking For missing values in the dataset"
   ]
  },
  {
   "cell_type": "code",
   "execution_count": 132,
   "id": "8bd5c37d",
   "metadata": {},
   "outputs": [
    {
     "name": "stdout",
     "output_type": "stream",
     "text": [
      "Missing Values in Dataset:\n",
      "Product          0\n",
      "Age              0\n",
      "Gender           0\n",
      "Education        0\n",
      "MaritalStatus    0\n",
      "Usage            0\n",
      "Fitness          0\n",
      "Income           0\n",
      "Miles            0\n",
      "Product_Price    0\n",
      "dtype: int64\n"
     ]
    }
   ],
   "source": [
    "missing_values = df.isnull().sum()\n",
    "print(\"Missing Values in Dataset:\")\n",
    "print(missing_values)"
   ]
  },
  {
   "cell_type": "markdown",
   "id": "10c0fbfa",
   "metadata": {},
   "source": [
    "Check for duplicate entries"
   ]
  },
  {
   "cell_type": "code",
   "execution_count": 139,
   "id": "bbeb193a",
   "metadata": {},
   "outputs": [
    {
     "name": "stdout",
     "output_type": "stream",
     "text": [
      "Number of duplicate rows: 0\n"
     ]
    }
   ],
   "source": [
    "duplicates = df.duplicated().sum()\n",
    "print(f\"Number of duplicate rows: {duplicates}\")"
   ]
  },
  {
   "cell_type": "markdown",
   "id": "fb4d21ae",
   "metadata": {},
   "source": [
    "### 1. Summary Statistics, Descriptive Analytics, Customer Profiles"
   ]
  },
  {
   "cell_type": "markdown",
   "id": "6e1a85f5",
   "metadata": {},
   "source": [
    "#### 1) 1. Customer Age:\n",
    "Median Age of Customers"
   ]
  },
  {
   "cell_type": "code",
   "execution_count": 140,
   "id": "31cd2eee",
   "metadata": {},
   "outputs": [
    {
     "name": "stdout",
     "output_type": "stream",
     "text": [
      "Median Age: 26.0\n"
     ]
    }
   ],
   "source": [
    "median_age = df[\"Age\"].median()\n",
    "print(f\"Median Age: {median_age}\")"
   ]
  },
  {
   "cell_type": "markdown",
   "id": "7f613953",
   "metadata": {},
   "source": [
    "#### 1) 2. Gender and Marital Status:"
   ]
  },
  {
   "cell_type": "code",
   "execution_count": 15,
   "id": "8387d67c",
   "metadata": {},
   "outputs": [
    {
     "data": {
      "text/plain": [
       "Male      104\n",
       "Female     76\n",
       "Name: Gender, dtype: int64"
      ]
     },
     "execution_count": 15,
     "metadata": {},
     "output_type": "execute_result"
    }
   ],
   "source": [
    "df['Gender'].value_counts()"
   ]
  },
  {
   "cell_type": "code",
   "execution_count": 16,
   "id": "06502107",
   "metadata": {},
   "outputs": [
    {
     "data": {
      "text/plain": [
       "Partnered    107\n",
       "Single        73\n",
       "Name: MaritalStatus, dtype: int64"
      ]
     },
     "execution_count": 16,
     "metadata": {},
     "output_type": "execute_result"
    }
   ],
   "source": [
    "df['MaritalStatus'].value_counts()"
   ]
  },
  {
   "cell_type": "code",
   "execution_count": 141,
   "id": "1de5880e",
   "metadata": {},
   "outputs": [
    {
     "name": "stdout",
     "output_type": "stream",
     "text": [
      "Predominant Gender: Male\n",
      "Predominant Marital Status: Partnered\n"
     ]
    }
   ],
   "source": [
    "predominant_gender = df[\"Gender\"].mode()[0]\n",
    "predominant_marital_status = df[\"MaritalStatus\"].mode()[0]\n",
    "print(f\"Predominant Gender: {predominant_gender}\")\n",
    "print(f\"Predominant Marital Status: {predominant_marital_status}\")"
   ]
  },
  {
   "cell_type": "code",
   "execution_count": 17,
   "id": "b73e1d8c",
   "metadata": {},
   "outputs": [
    {
     "data": {
      "text/html": [
       "<div>\n",
       "<style scoped>\n",
       "    .dataframe tbody tr th:only-of-type {\n",
       "        vertical-align: middle;\n",
       "    }\n",
       "\n",
       "    .dataframe tbody tr th {\n",
       "        vertical-align: top;\n",
       "    }\n",
       "\n",
       "    .dataframe thead th {\n",
       "        text-align: right;\n",
       "    }\n",
       "</style>\n",
       "<table border=\"1\" class=\"dataframe\">\n",
       "  <thead>\n",
       "    <tr style=\"text-align: right;\">\n",
       "      <th>Gender</th>\n",
       "      <th>Female</th>\n",
       "      <th>Male</th>\n",
       "    </tr>\n",
       "    <tr>\n",
       "      <th>Product</th>\n",
       "      <th></th>\n",
       "      <th></th>\n",
       "    </tr>\n",
       "  </thead>\n",
       "  <tbody>\n",
       "    <tr>\n",
       "      <th>KP281</th>\n",
       "      <td>40</td>\n",
       "      <td>40</td>\n",
       "    </tr>\n",
       "    <tr>\n",
       "      <th>KP481</th>\n",
       "      <td>29</td>\n",
       "      <td>31</td>\n",
       "    </tr>\n",
       "    <tr>\n",
       "      <th>KP781</th>\n",
       "      <td>7</td>\n",
       "      <td>33</td>\n",
       "    </tr>\n",
       "  </tbody>\n",
       "</table>\n",
       "</div>"
      ],
      "text/plain": [
       "Gender   Female  Male\n",
       "Product              \n",
       "KP281        40    40\n",
       "KP481        29    31\n",
       "KP781         7    33"
      ]
     },
     "execution_count": 17,
     "metadata": {},
     "output_type": "execute_result"
    }
   ],
   "source": [
    "pd.pivot_table(df, index='Product', columns='Gender', aggfunc='size')"
   ]
  },
  {
   "cell_type": "markdown",
   "id": "9858b979",
   "metadata": {},
   "source": [
    "for KP281 no. of male and female customers are same.\n",
    "\n",
    "for KP781 no. of. males customers are more."
   ]
  },
  {
   "cell_type": "markdown",
   "id": "69096e49",
   "metadata": {},
   "source": [
    "#### 1) 3. Product Preferences:"
   ]
  },
  {
   "cell_type": "code",
   "execution_count": 145,
   "id": "2bc4168e",
   "metadata": {},
   "outputs": [
    {
     "data": {
      "text/plain": [
       "KP281    80\n",
       "KP481    60\n",
       "KP781    40\n",
       "Name: Product, dtype: int64"
      ]
     },
     "execution_count": 145,
     "metadata": {},
     "output_type": "execute_result"
    }
   ],
   "source": [
    "df['Product'].value_counts()"
   ]
  },
  {
   "cell_type": "code",
   "execution_count": 142,
   "id": "c70ea5a3",
   "metadata": {},
   "outputs": [
    {
     "name": "stdout",
     "output_type": "stream",
     "text": [
      "Highest Selling Product: KP281\n"
     ]
    }
   ],
   "source": [
    "highest_selling_product = df[\"Product\"].mode()[0]\n",
    "print(f\"Highest Selling Product: {highest_selling_product}\")"
   ]
  },
  {
   "cell_type": "markdown",
   "id": "81c1659e",
   "metadata": {},
   "source": [
    "Fitness Level Comparison"
   ]
  },
  {
   "cell_type": "code",
   "execution_count": 144,
   "id": "3241456e",
   "metadata": {},
   "outputs": [
    {
     "name": "stdout",
     "output_type": "stream",
     "text": [
      "Product\n",
      "KP281    2.9625\n",
      "KP481    2.9000\n",
      "KP781    4.6250\n",
      "Name: Fitness, dtype: float64\n"
     ]
    }
   ],
   "source": [
    "fitness_by_product = df.groupby(\"Product\")[\"Fitness\"].mean()\n",
    "print(fitness_by_product)"
   ]
  },
  {
   "cell_type": "markdown",
   "id": "b80c1867",
   "metadata": {},
   "source": [
    "Highest Selling Treadmill is KP281"
   ]
  },
  {
   "cell_type": "code",
   "execution_count": 23,
   "id": "7e782235",
   "metadata": {},
   "outputs": [
    {
     "data": {
      "text/plain": [
       "Product\n",
       "KP281    28.55\n",
       "KP481    28.90\n",
       "KP781    29.10\n",
       "Name: Age, dtype: float64"
      ]
     },
     "execution_count": 23,
     "metadata": {},
     "output_type": "execute_result"
    }
   ],
   "source": [
    "df.groupby('Product')['Age'].mean()"
   ]
  },
  {
   "cell_type": "markdown",
   "id": "6e2e1865",
   "metadata": {},
   "source": [
    "#### 1) 4. Customer Income and Education:"
   ]
  },
  {
   "cell_type": "code",
   "execution_count": 146,
   "id": "c98c4148",
   "metadata": {},
   "outputs": [
    {
     "name": "stdout",
     "output_type": "stream",
     "text": [
      "Median Income: 50596.5\n"
     ]
    }
   ],
   "source": [
    "median_income = df[\"Income\"].median()\n",
    "print(f\"Median Income: {median_income}\")"
   ]
  },
  {
   "cell_type": "code",
   "execution_count": 147,
   "id": "d2ed2e05",
   "metadata": {},
   "outputs": [
    {
     "name": "stdout",
     "output_type": "stream",
     "text": [
      "Average Education Level: 15.572222222222223\n"
     ]
    }
   ],
   "source": [
    "average_education = df[\"Education\"].mean()\n",
    "print(f\"Average Education Level: {average_education}\")"
   ]
  },
  {
   "cell_type": "code",
   "execution_count": 148,
   "id": "514e1745",
   "metadata": {},
   "outputs": [
    {
     "data": {
      "text/plain": [
       "Product\n",
       "KP781    75441.575\n",
       "KP481    48973.650\n",
       "KP281    46418.025\n",
       "Name: Income, dtype: float64"
      ]
     },
     "execution_count": 148,
     "metadata": {},
     "output_type": "execute_result"
    }
   ],
   "source": [
    "df.groupby('Product')['Income'].mean().sort_values(ascending= False)"
   ]
  },
  {
   "cell_type": "markdown",
   "id": "f48c04f3",
   "metadata": {},
   "source": [
    "High Income users likely to purchase higher price product"
   ]
  },
  {
   "cell_type": "code",
   "execution_count": 149,
   "id": "863eccc7",
   "metadata": {},
   "outputs": [
    {
     "data": {
      "text/plain": [
       "Product\n",
       "KP781    29.10\n",
       "KP481    28.90\n",
       "KP281    28.55\n",
       "Name: Age, dtype: float64"
      ]
     },
     "execution_count": 149,
     "metadata": {},
     "output_type": "execute_result"
    }
   ],
   "source": [
    "df.groupby('Product')['Age'].mean().sort_values(ascending= False)"
   ]
  },
  {
   "cell_type": "markdown",
   "id": "ae169456",
   "metadata": {},
   "source": [
    "#### 1) 5. Correlations:"
   ]
  },
  {
   "cell_type": "markdown",
   "id": "608ff1b8",
   "metadata": {},
   "source": [
    "Fitness Level & Miles Run, Product Price & Income Correlation"
   ]
  },
  {
   "cell_type": "code",
   "execution_count": 152,
   "id": "e08b15f6",
   "metadata": {},
   "outputs": [
    {
     "name": "stdout",
     "output_type": "stream",
     "text": [
      "          Fitness     Miles    Income     Usage\n",
      "Fitness  1.000000  0.785702  0.535005  0.668606\n",
      "Miles    0.785702  1.000000  0.543473  0.759130\n",
      "Income   0.535005  0.543473  1.000000  0.519537\n",
      "Usage    0.668606  0.759130  0.519537  1.000000\n"
     ]
    }
   ],
   "source": [
    "correlations = df[[\"Fitness\", \"Miles\", \"Income\", \"Usage\"]].corr()\n",
    "print(correlations)"
   ]
  },
  {
   "cell_type": "code",
   "execution_count": 29,
   "id": "0e6e342a",
   "metadata": {},
   "outputs": [
    {
     "data": {
      "text/html": [
       "<div>\n",
       "<style scoped>\n",
       "    .dataframe tbody tr th:only-of-type {\n",
       "        vertical-align: middle;\n",
       "    }\n",
       "\n",
       "    .dataframe tbody tr th {\n",
       "        vertical-align: top;\n",
       "    }\n",
       "\n",
       "    .dataframe thead th {\n",
       "        text-align: right;\n",
       "    }\n",
       "</style>\n",
       "<table border=\"1\" class=\"dataframe\">\n",
       "  <thead>\n",
       "    <tr style=\"text-align: right;\">\n",
       "      <th></th>\n",
       "      <th>Fitness</th>\n",
       "      <th>Miles</th>\n",
       "    </tr>\n",
       "  </thead>\n",
       "  <tbody>\n",
       "    <tr>\n",
       "      <th>Fitness</th>\n",
       "      <td>1.000000</td>\n",
       "      <td>0.785702</td>\n",
       "    </tr>\n",
       "    <tr>\n",
       "      <th>Miles</th>\n",
       "      <td>0.785702</td>\n",
       "      <td>1.000000</td>\n",
       "    </tr>\n",
       "  </tbody>\n",
       "</table>\n",
       "</div>"
      ],
      "text/plain": [
       "          Fitness     Miles\n",
       "Fitness  1.000000  0.785702\n",
       "Miles    0.785702  1.000000"
      ]
     },
     "execution_count": 29,
     "metadata": {},
     "output_type": "execute_result"
    }
   ],
   "source": [
    "df[['Fitness','Miles']].corr()"
   ]
  },
  {
   "cell_type": "markdown",
   "id": "376605f5",
   "metadata": {},
   "source": [
    "Those who run more miles are likely to be more fit"
   ]
  },
  {
   "cell_type": "code",
   "execution_count": 153,
   "id": "568911c3",
   "metadata": {},
   "outputs": [],
   "source": [
    "def price_update(x):\n",
    "    if x=='KP281':\n",
    "        return 1500\n",
    "    elif x=='KP481':\n",
    "        return 1750\n",
    "    else:\n",
    "        return 2500"
   ]
  },
  {
   "cell_type": "code",
   "execution_count": 154,
   "id": "d2f53514",
   "metadata": {},
   "outputs": [],
   "source": [
    "df['Product_Price'] = df['Product'].apply(lambda x:price_update(x))"
   ]
  },
  {
   "cell_type": "code",
   "execution_count": 155,
   "id": "1e51ce47",
   "metadata": {},
   "outputs": [
    {
     "data": {
      "text/plain": [
       "0      1500\n",
       "1      1500\n",
       "2      1500\n",
       "3      1500\n",
       "4      1500\n",
       "       ... \n",
       "175    2500\n",
       "176    2500\n",
       "177    2500\n",
       "178    2500\n",
       "179    2500\n",
       "Name: Product_Price, Length: 180, dtype: int64"
      ]
     },
     "execution_count": 155,
     "metadata": {},
     "output_type": "execute_result"
    }
   ],
   "source": [
    "df['Product_Price']"
   ]
  },
  {
   "cell_type": "code",
   "execution_count": 156,
   "id": "679ab424",
   "metadata": {},
   "outputs": [
    {
     "data": {
      "text/html": [
       "<div>\n",
       "<style scoped>\n",
       "    .dataframe tbody tr th:only-of-type {\n",
       "        vertical-align: middle;\n",
       "    }\n",
       "\n",
       "    .dataframe tbody tr th {\n",
       "        vertical-align: top;\n",
       "    }\n",
       "\n",
       "    .dataframe thead th {\n",
       "        text-align: right;\n",
       "    }\n",
       "</style>\n",
       "<table border=\"1\" class=\"dataframe\">\n",
       "  <thead>\n",
       "    <tr style=\"text-align: right;\">\n",
       "      <th></th>\n",
       "      <th>Product_Price</th>\n",
       "      <th>Income</th>\n",
       "    </tr>\n",
       "  </thead>\n",
       "  <tbody>\n",
       "    <tr>\n",
       "      <th>Product_Price</th>\n",
       "      <td>1.000000</td>\n",
       "      <td>0.695847</td>\n",
       "    </tr>\n",
       "    <tr>\n",
       "      <th>Income</th>\n",
       "      <td>0.695847</td>\n",
       "      <td>1.000000</td>\n",
       "    </tr>\n",
       "  </tbody>\n",
       "</table>\n",
       "</div>"
      ],
      "text/plain": [
       "               Product_Price    Income\n",
       "Product_Price       1.000000  0.695847\n",
       "Income              0.695847  1.000000"
      ]
     },
     "execution_count": 156,
     "metadata": {},
     "output_type": "execute_result"
    }
   ],
   "source": [
    "df[['Product_Price','Income']].corr()"
   ]
  },
  {
   "cell_type": "markdown",
   "id": "9b92bb7b",
   "metadata": {},
   "source": [
    "#### 1) 6. Revenue Generation:"
   ]
  },
  {
   "cell_type": "code",
   "execution_count": 157,
   "id": "fce05ec7",
   "metadata": {},
   "outputs": [
    {
     "name": "stdout",
     "output_type": "stream",
     "text": [
      "Product\n",
      "KP281    3713442\n",
      "KP481    2938419\n",
      "KP781    3017663\n",
      "Name: Income, dtype: int64\n"
     ]
    }
   ],
   "source": [
    "revenue_by_product = df.groupby(\"Product\")[\"Income\"].sum()\n",
    "print(revenue_by_product)"
   ]
  },
  {
   "cell_type": "markdown",
   "id": "4c127694",
   "metadata": {},
   "source": [
    "KP281 generates the highest revenue compared to others."
   ]
  },
  {
   "cell_type": "markdown",
   "id": "6f900d24",
   "metadata": {},
   "source": [
    "#### 1) 7. Marginal Probabilities:"
   ]
  },
  {
   "cell_type": "code",
   "execution_count": 158,
   "id": "3991fa78",
   "metadata": {},
   "outputs": [],
   "source": [
    "p_table = pd.pivot_table(df,columns='Gender',index='Product',aggfunc='size')"
   ]
  },
  {
   "cell_type": "code",
   "execution_count": 159,
   "id": "39ab76ec",
   "metadata": {},
   "outputs": [
    {
     "data": {
      "text/plain": [
       "0.38461538461538464"
      ]
     },
     "execution_count": 159,
     "metadata": {},
     "output_type": "execute_result"
    }
   ],
   "source": [
    "p_table['Male']['KP281']/df['Gender'].value_counts()['Male']"
   ]
  },
  {
   "cell_type": "code",
   "execution_count": 160,
   "id": "98a533ae",
   "metadata": {},
   "outputs": [
    {
     "data": {
      "text/plain": [
       "0.2980769230769231"
      ]
     },
     "execution_count": 160,
     "metadata": {},
     "output_type": "execute_result"
    }
   ],
   "source": [
    "p_table['Male']['KP481']/df['Gender'].value_counts()['Male']"
   ]
  },
  {
   "cell_type": "code",
   "execution_count": 161,
   "id": "4bd729d7",
   "metadata": {},
   "outputs": [
    {
     "data": {
      "text/plain": [
       "0.3173076923076923"
      ]
     },
     "execution_count": 161,
     "metadata": {},
     "output_type": "execute_result"
    }
   ],
   "source": [
    "p_table['Male']['KP781']/df['Gender'].value_counts()['Male']"
   ]
  },
  {
   "cell_type": "code",
   "execution_count": 162,
   "id": "a94005e8",
   "metadata": {},
   "outputs": [
    {
     "data": {
      "text/plain": [
       "0.5263157894736842"
      ]
     },
     "execution_count": 162,
     "metadata": {},
     "output_type": "execute_result"
    }
   ],
   "source": [
    "p_table['Female']['KP281']/df['Gender'].value_counts()['Female']"
   ]
  },
  {
   "cell_type": "code",
   "execution_count": 163,
   "id": "b1a174b8",
   "metadata": {},
   "outputs": [
    {
     "data": {
      "text/plain": [
       "0.3815789473684211"
      ]
     },
     "execution_count": 163,
     "metadata": {},
     "output_type": "execute_result"
    }
   ],
   "source": [
    "p_table['Female']['KP481']/df['Gender'].value_counts()['Female']"
   ]
  },
  {
   "cell_type": "code",
   "execution_count": 164,
   "id": "d14c308f",
   "metadata": {},
   "outputs": [
    {
     "data": {
      "text/plain": [
       "0.09210526315789473"
      ]
     },
     "execution_count": 164,
     "metadata": {},
     "output_type": "execute_result"
    }
   ],
   "source": [
    "p_table['Female']['KP781']/df['Gender'].value_counts()['Female']"
   ]
  },
  {
   "cell_type": "markdown",
   "id": "3e7aa86a",
   "metadata": {},
   "source": [
    "#### 1) 8. Product Recommendations:"
   ]
  },
  {
   "cell_type": "code",
   "execution_count": 165,
   "id": "1cb3cae4",
   "metadata": {},
   "outputs": [
    {
     "name": "stdout",
     "output_type": "stream",
     "text": [
      "Gender  Product\n",
      "Female  KP281      52.631579\n",
      "        KP481      38.157895\n",
      "        KP781       9.210526\n",
      "Male    KP281      38.461538\n",
      "        KP781      31.730769\n",
      "        KP481      29.807692\n",
      "Name: Product, dtype: float64\n"
     ]
    }
   ],
   "source": [
    "recommendation_by_gender = df.groupby(\"Gender\")[\"Product\"].value_counts(normalize=True) * 100\n",
    "print(recommendation_by_gender)"
   ]
  },
  {
   "cell_type": "markdown",
   "id": "c42087b9",
   "metadata": {},
   "source": [
    "KP281 is suitable for Female."
   ]
  },
  {
   "cell_type": "code",
   "execution_count": 166,
   "id": "69cc94f4",
   "metadata": {},
   "outputs": [],
   "source": [
    "singles_data = df[df['MaritalStatus'] == 'Single']"
   ]
  },
  {
   "cell_type": "code",
   "execution_count": 167,
   "id": "e2d8b143",
   "metadata": {},
   "outputs": [
    {
     "data": {
      "text/plain": [
       "Product\n",
       "KP781    145.058824\n",
       "KP281     91.125000\n",
       "KP481     84.750000\n",
       "Name: Miles, dtype: float64"
      ]
     },
     "execution_count": 167,
     "metadata": {},
     "output_type": "execute_result"
    }
   ],
   "source": [
    "singles_data.groupby('Product')['Miles'].mean().sort_values(ascending=False)"
   ]
  },
  {
   "cell_type": "markdown",
   "id": "51421df4",
   "metadata": {},
   "source": [
    "So KP781 is recommended for singles who exercise more"
   ]
  },
  {
   "cell_type": "markdown",
   "id": "4c897645",
   "metadata": {},
   "source": [
    "#### 1) 9. Exercise Patterns:"
   ]
  },
  {
   "cell_type": "code",
   "execution_count": 168,
   "id": "96ad70ed",
   "metadata": {},
   "outputs": [
    {
     "name": "stdout",
     "output_type": "stream",
     "text": [
      "Product\n",
      "KP281     82.787500\n",
      "KP481     87.933333\n",
      "KP781    166.900000\n",
      "Name: Miles, dtype: float64\n"
     ]
    }
   ],
   "source": [
    "miles_by_product = df.groupby(\"Product\")[\"Miles\"].mean()\n",
    "print(miles_by_product)"
   ]
  },
  {
   "cell_type": "markdown",
   "id": "83dce884",
   "metadata": {},
   "source": [
    "#### 1) 10. Fitness Levels and Income:"
   ]
  },
  {
   "cell_type": "code",
   "execution_count": 169,
   "id": "8d0b6b30",
   "metadata": {},
   "outputs": [
    {
     "name": "stdout",
     "output_type": "stream",
     "text": [
      "          Fitness    Income\n",
      "Fitness  1.000000  0.535005\n",
      "Income   0.535005  1.000000\n"
     ]
    }
   ],
   "source": [
    "fitness_income_corr = df[[\"Fitness\", \"Income\"]].corr()\n",
    "print(fitness_income_corr)"
   ]
  },
  {
   "cell_type": "code",
   "execution_count": 170,
   "id": "04540f3e",
   "metadata": {},
   "outputs": [
    {
     "data": {
      "text/html": [
       "<div>\n",
       "<style scoped>\n",
       "    .dataframe tbody tr th:only-of-type {\n",
       "        vertical-align: middle;\n",
       "    }\n",
       "\n",
       "    .dataframe tbody tr th {\n",
       "        vertical-align: top;\n",
       "    }\n",
       "\n",
       "    .dataframe thead th {\n",
       "        text-align: right;\n",
       "    }\n",
       "</style>\n",
       "<table border=\"1\" class=\"dataframe\">\n",
       "  <thead>\n",
       "    <tr style=\"text-align: right;\">\n",
       "      <th></th>\n",
       "      <th>Fitness</th>\n",
       "      <th>Income</th>\n",
       "    </tr>\n",
       "    <tr>\n",
       "      <th>Product</th>\n",
       "      <th></th>\n",
       "      <th></th>\n",
       "    </tr>\n",
       "  </thead>\n",
       "  <tbody>\n",
       "    <tr>\n",
       "      <th>KP281</th>\n",
       "      <td>2.9625</td>\n",
       "      <td>46418.025</td>\n",
       "    </tr>\n",
       "    <tr>\n",
       "      <th>KP481</th>\n",
       "      <td>2.9000</td>\n",
       "      <td>48973.650</td>\n",
       "    </tr>\n",
       "    <tr>\n",
       "      <th>KP781</th>\n",
       "      <td>4.6250</td>\n",
       "      <td>75441.575</td>\n",
       "    </tr>\n",
       "  </tbody>\n",
       "</table>\n",
       "</div>"
      ],
      "text/plain": [
       "         Fitness     Income\n",
       "Product                    \n",
       "KP281     2.9625  46418.025\n",
       "KP481     2.9000  48973.650\n",
       "KP781     4.6250  75441.575"
      ]
     },
     "execution_count": 170,
     "metadata": {},
     "output_type": "execute_result"
    }
   ],
   "source": [
    "df.groupby('Product')[['Fitness','Income']].mean()"
   ]
  },
  {
   "cell_type": "markdown",
   "id": "2f457b39",
   "metadata": {},
   "source": [
    "#### 1) 11. Usage Frequency:"
   ]
  },
  {
   "cell_type": "code",
   "execution_count": 48,
   "id": "f4e1b818",
   "metadata": {},
   "outputs": [
    {
     "data": {
      "text/plain": [
       "0      3\n",
       "1      2\n",
       "2      4\n",
       "3      3\n",
       "4      4\n",
       "      ..\n",
       "175    6\n",
       "176    5\n",
       "177    5\n",
       "178    4\n",
       "179    4\n",
       "Name: Usage, Length: 180, dtype: int64"
      ]
     },
     "execution_count": 48,
     "metadata": {},
     "output_type": "execute_result"
    }
   ],
   "source": [
    "df['Usage']"
   ]
  },
  {
   "cell_type": "code",
   "execution_count": 49,
   "id": "5cc129aa",
   "metadata": {},
   "outputs": [
    {
     "data": {
      "text/plain": [
       "Product\n",
       "KP281    3.087500\n",
       "KP481    3.066667\n",
       "KP781    4.775000\n",
       "Name: Usage, dtype: float64"
      ]
     },
     "execution_count": 49,
     "metadata": {},
     "output_type": "execute_result"
    }
   ],
   "source": [
    "df.groupby('Product')['Usage'].mean()"
   ]
  },
  {
   "cell_type": "code",
   "execution_count": 50,
   "id": "5cbc2340",
   "metadata": {},
   "outputs": [],
   "source": [
    "frequent_usage = df[df['Usage']>=4]"
   ]
  },
  {
   "cell_type": "code",
   "execution_count": 51,
   "id": "3550e032",
   "metadata": {},
   "outputs": [
    {
     "data": {
      "text/plain": [
       "KP781    39\n",
       "KP281    24\n",
       "KP481    15\n",
       "Name: Product, dtype: int64"
      ]
     },
     "execution_count": 51,
     "metadata": {},
     "output_type": "execute_result"
    }
   ],
   "source": [
    "frequent_usage['Product'].value_counts()"
   ]
  },
  {
   "cell_type": "markdown",
   "id": "14bdd417",
   "metadata": {},
   "source": [
    "KP781 is favoured by customers"
   ]
  },
  {
   "cell_type": "markdown",
   "id": "270e3ffd",
   "metadata": {},
   "source": [
    "#### 1)12. Correlation Between Income and Product Price:"
   ]
  },
  {
   "cell_type": "code",
   "execution_count": 52,
   "id": "c1638d92",
   "metadata": {},
   "outputs": [
    {
     "data": {
      "text/plain": [
       "<AxesSubplot:xlabel='Product'>"
      ]
     },
     "execution_count": 52,
     "metadata": {},
     "output_type": "execute_result"
    },
    {
     "data": {
      "image/png": "[encoded data removed]",
      "text/plain": [
       "<Figure size 432x288 with 1 Axes>"
      ]
     },
     "metadata": {
      "needs_background": "light"
     },
     "output_type": "display_data"
    }
   ],
   "source": [
    "df.groupby('Product')['Income'].mean().plot(kind = 'bar')"
   ]
  },
  {
   "cell_type": "code",
   "execution_count": 174,
   "id": "3c18cab4",
   "metadata": {},
   "outputs": [
    {
     "name": "stdout",
     "output_type": "stream",
     "text": [
      "               Product_Price    Income\n",
      "Product_Price       1.000000  0.695847\n",
      "Income              0.695847  1.000000\n"
     ]
    }
   ],
   "source": [
    "income_product_corr = df[[\"Product_Price\", \"Income\"]].corr()\n",
    "print(income_product_corr)"
   ]
  },
  {
   "cell_type": "markdown",
   "id": "7825a55e",
   "metadata": {},
   "source": [
    "Product Price and Income has a positive correlation"
   ]
  },
  {
   "cell_type": "markdown",
   "id": "3279161d",
   "metadata": {},
   "source": [
    "### 2. Insights and Recommendations"
   ]
  },
  {
   "cell_type": "markdown",
   "id": "225b1e52",
   "metadata": {},
   "source": [
    "#### 2) 1. KP281 Customer Profile:"
   ]
  },
  {
   "cell_type": "code",
   "execution_count": 54,
   "id": "1e54b862",
   "metadata": {},
   "outputs": [],
   "source": [
    "product_cat_1 = df[df['Product']=='KP281']"
   ]
  },
  {
   "cell_type": "code",
   "execution_count": 55,
   "id": "519bd285",
   "metadata": {},
   "outputs": [
    {
     "data": {
      "text/html": [
       "<div>\n",
       "<style scoped>\n",
       "    .dataframe tbody tr th:only-of-type {\n",
       "        vertical-align: middle;\n",
       "    }\n",
       "\n",
       "    .dataframe tbody tr th {\n",
       "        vertical-align: top;\n",
       "    }\n",
       "\n",
       "    .dataframe thead th {\n",
       "        text-align: right;\n",
       "    }\n",
       "</style>\n",
       "<table border=\"1\" class=\"dataframe\">\n",
       "  <thead>\n",
       "    <tr style=\"text-align: right;\">\n",
       "      <th></th>\n",
       "      <th>count</th>\n",
       "      <th>mean</th>\n",
       "      <th>std</th>\n",
       "      <th>min</th>\n",
       "      <th>25%</th>\n",
       "      <th>50%</th>\n",
       "      <th>75%</th>\n",
       "      <th>max</th>\n",
       "    </tr>\n",
       "  </thead>\n",
       "  <tbody>\n",
       "    <tr>\n",
       "      <th>Age</th>\n",
       "      <td>80.0</td>\n",
       "      <td>28.5500</td>\n",
       "      <td>7.221452</td>\n",
       "      <td>18.0</td>\n",
       "      <td>23.0</td>\n",
       "      <td>26.0</td>\n",
       "      <td>33.0</td>\n",
       "      <td>50.0</td>\n",
       "    </tr>\n",
       "    <tr>\n",
       "      <th>Education</th>\n",
       "      <td>80.0</td>\n",
       "      <td>15.0375</td>\n",
       "      <td>1.216383</td>\n",
       "      <td>12.0</td>\n",
       "      <td>14.0</td>\n",
       "      <td>16.0</td>\n",
       "      <td>16.0</td>\n",
       "      <td>18.0</td>\n",
       "    </tr>\n",
       "    <tr>\n",
       "      <th>Usage</th>\n",
       "      <td>80.0</td>\n",
       "      <td>3.0875</td>\n",
       "      <td>0.782624</td>\n",
       "      <td>2.0</td>\n",
       "      <td>3.0</td>\n",
       "      <td>3.0</td>\n",
       "      <td>4.0</td>\n",
       "      <td>5.0</td>\n",
       "    </tr>\n",
       "    <tr>\n",
       "      <th>Fitness</th>\n",
       "      <td>80.0</td>\n",
       "      <td>2.9625</td>\n",
       "      <td>0.664540</td>\n",
       "      <td>1.0</td>\n",
       "      <td>3.0</td>\n",
       "      <td>3.0</td>\n",
       "      <td>3.0</td>\n",
       "      <td>5.0</td>\n",
       "    </tr>\n",
       "    <tr>\n",
       "      <th>Income</th>\n",
       "      <td>80.0</td>\n",
       "      <td>46418.0250</td>\n",
       "      <td>9075.783190</td>\n",
       "      <td>29562.0</td>\n",
       "      <td>38658.0</td>\n",
       "      <td>46617.0</td>\n",
       "      <td>53439.0</td>\n",
       "      <td>68220.0</td>\n",
       "    </tr>\n",
       "    <tr>\n",
       "      <th>Miles</th>\n",
       "      <td>80.0</td>\n",
       "      <td>82.7875</td>\n",
       "      <td>28.874102</td>\n",
       "      <td>38.0</td>\n",
       "      <td>66.0</td>\n",
       "      <td>85.0</td>\n",
       "      <td>94.0</td>\n",
       "      <td>188.0</td>\n",
       "    </tr>\n",
       "    <tr>\n",
       "      <th>Product_Price</th>\n",
       "      <td>80.0</td>\n",
       "      <td>1500.0000</td>\n",
       "      <td>0.000000</td>\n",
       "      <td>1500.0</td>\n",
       "      <td>1500.0</td>\n",
       "      <td>1500.0</td>\n",
       "      <td>1500.0</td>\n",
       "      <td>1500.0</td>\n",
       "    </tr>\n",
       "  </tbody>\n",
       "</table>\n",
       "</div>"
      ],
      "text/plain": [
       "               count        mean          std      min      25%      50%  \\\n",
       "Age             80.0     28.5500     7.221452     18.0     23.0     26.0   \n",
       "Education       80.0     15.0375     1.216383     12.0     14.0     16.0   \n",
       "Usage           80.0      3.0875     0.782624      2.0      3.0      3.0   \n",
       "Fitness         80.0      2.9625     0.664540      1.0      3.0      3.0   \n",
       "Income          80.0  46418.0250  9075.783190  29562.0  38658.0  46617.0   \n",
       "Miles           80.0     82.7875    28.874102     38.0     66.0     85.0   \n",
       "Product_Price   80.0   1500.0000     0.000000   1500.0   1500.0   1500.0   \n",
       "\n",
       "                   75%      max  \n",
       "Age               33.0     50.0  \n",
       "Education         16.0     18.0  \n",
       "Usage              4.0      5.0  \n",
       "Fitness            3.0      5.0  \n",
       "Income         53439.0  68220.0  \n",
       "Miles             94.0    188.0  \n",
       "Product_Price   1500.0   1500.0  "
      ]
     },
     "execution_count": 55,
     "metadata": {},
     "output_type": "execute_result"
    }
   ],
   "source": [
    "product_cat_1.describe().T"
   ]
  },
  {
   "cell_type": "code",
   "execution_count": 56,
   "id": "00b2c826",
   "metadata": {},
   "outputs": [
    {
     "data": {
      "text/html": [
       "<div>\n",
       "<style scoped>\n",
       "    .dataframe tbody tr th:only-of-type {\n",
       "        vertical-align: middle;\n",
       "    }\n",
       "\n",
       "    .dataframe tbody tr th {\n",
       "        vertical-align: top;\n",
       "    }\n",
       "\n",
       "    .dataframe thead th {\n",
       "        text-align: right;\n",
       "    }\n",
       "</style>\n",
       "<table border=\"1\" class=\"dataframe\">\n",
       "  <thead>\n",
       "    <tr style=\"text-align: right;\">\n",
       "      <th></th>\n",
       "      <th>count</th>\n",
       "      <th>unique</th>\n",
       "      <th>top</th>\n",
       "      <th>freq</th>\n",
       "    </tr>\n",
       "  </thead>\n",
       "  <tbody>\n",
       "    <tr>\n",
       "      <th>Product</th>\n",
       "      <td>80</td>\n",
       "      <td>1</td>\n",
       "      <td>KP281</td>\n",
       "      <td>80</td>\n",
       "    </tr>\n",
       "    <tr>\n",
       "      <th>Gender</th>\n",
       "      <td>80</td>\n",
       "      <td>2</td>\n",
       "      <td>Male</td>\n",
       "      <td>40</td>\n",
       "    </tr>\n",
       "    <tr>\n",
       "      <th>MaritalStatus</th>\n",
       "      <td>80</td>\n",
       "      <td>2</td>\n",
       "      <td>Partnered</td>\n",
       "      <td>48</td>\n",
       "    </tr>\n",
       "  </tbody>\n",
       "</table>\n",
       "</div>"
      ],
      "text/plain": [
       "              count unique        top freq\n",
       "Product          80      1      KP281   80\n",
       "Gender           80      2       Male   40\n",
       "MaritalStatus    80      2  Partnered   48"
      ]
     },
     "execution_count": 56,
     "metadata": {},
     "output_type": "execute_result"
    }
   ],
   "source": [
    "product_cat_1.select_dtypes('object').describe().T"
   ]
  },
  {
   "cell_type": "code",
   "execution_count": 57,
   "id": "a9fbe916",
   "metadata": {},
   "outputs": [
    {
     "name": "stdout",
     "output_type": "stream",
     "text": [
      "Avg. Income : 46418.025\n",
      "Max Income : 68220\n",
      "Min Income : 29562\n"
     ]
    }
   ],
   "source": [
    "print(f\"Avg. Income : {product_cat_1['Income'].mean()}\")\n",
    "print(f\"Max Income : {product_cat_1['Income'].max()}\")\n",
    "print(f\"Min Income : {product_cat_1['Income'].min()}\")"
   ]
  },
  {
   "cell_type": "code",
   "execution_count": 58,
   "id": "ad83ed25",
   "metadata": {},
   "outputs": [
    {
     "name": "stdout",
     "output_type": "stream",
     "text": [
      "Avg. Age : 28.55\n",
      "Max Age : 50\n",
      "Min Age : 18\n"
     ]
    }
   ],
   "source": [
    "print(f\"Avg. Age : {product_cat_1['Age'].mean()}\")\n",
    "print(f\"Max Age : {product_cat_1['Age'].max()}\")\n",
    "print(f\"Min Age : {product_cat_1['Age'].min()}\")"
   ]
  },
  {
   "cell_type": "markdown",
   "id": "5bda3503",
   "metadata": {},
   "source": [
    "#### 2) 2. KP481 Customer Profile:"
   ]
  },
  {
   "cell_type": "code",
   "execution_count": 59,
   "id": "aa0ea7cf",
   "metadata": {},
   "outputs": [],
   "source": [
    "product_cat_2 = df[df['Product']=='KP481']"
   ]
  },
  {
   "cell_type": "code",
   "execution_count": 60,
   "id": "67e04c41",
   "metadata": {},
   "outputs": [
    {
     "data": {
      "text/html": [
       "<div>\n",
       "<style scoped>\n",
       "    .dataframe tbody tr th:only-of-type {\n",
       "        vertical-align: middle;\n",
       "    }\n",
       "\n",
       "    .dataframe tbody tr th {\n",
       "        vertical-align: top;\n",
       "    }\n",
       "\n",
       "    .dataframe thead th {\n",
       "        text-align: right;\n",
       "    }\n",
       "</style>\n",
       "<table border=\"1\" class=\"dataframe\">\n",
       "  <thead>\n",
       "    <tr style=\"text-align: right;\">\n",
       "      <th></th>\n",
       "      <th>count</th>\n",
       "      <th>mean</th>\n",
       "      <th>std</th>\n",
       "      <th>min</th>\n",
       "      <th>25%</th>\n",
       "      <th>50%</th>\n",
       "      <th>75%</th>\n",
       "      <th>max</th>\n",
       "    </tr>\n",
       "  </thead>\n",
       "  <tbody>\n",
       "    <tr>\n",
       "      <th>Age</th>\n",
       "      <td>60.0</td>\n",
       "      <td>28.900000</td>\n",
       "      <td>6.645248</td>\n",
       "      <td>19.0</td>\n",
       "      <td>24.0</td>\n",
       "      <td>26.0</td>\n",
       "      <td>33.25</td>\n",
       "      <td>48.0</td>\n",
       "    </tr>\n",
       "    <tr>\n",
       "      <th>Education</th>\n",
       "      <td>60.0</td>\n",
       "      <td>15.116667</td>\n",
       "      <td>1.222552</td>\n",
       "      <td>12.0</td>\n",
       "      <td>14.0</td>\n",
       "      <td>16.0</td>\n",
       "      <td>16.00</td>\n",
       "      <td>18.0</td>\n",
       "    </tr>\n",
       "    <tr>\n",
       "      <th>Usage</th>\n",
       "      <td>60.0</td>\n",
       "      <td>3.066667</td>\n",
       "      <td>0.799717</td>\n",
       "      <td>2.0</td>\n",
       "      <td>3.0</td>\n",
       "      <td>3.0</td>\n",
       "      <td>3.25</td>\n",
       "      <td>5.0</td>\n",
       "    </tr>\n",
       "    <tr>\n",
       "      <th>Fitness</th>\n",
       "      <td>60.0</td>\n",
       "      <td>2.900000</td>\n",
       "      <td>0.629770</td>\n",
       "      <td>1.0</td>\n",
       "      <td>3.0</td>\n",
       "      <td>3.0</td>\n",
       "      <td>3.00</td>\n",
       "      <td>4.0</td>\n",
       "    </tr>\n",
       "    <tr>\n",
       "      <th>Income</th>\n",
       "      <td>60.0</td>\n",
       "      <td>48973.650000</td>\n",
       "      <td>8653.989388</td>\n",
       "      <td>31836.0</td>\n",
       "      <td>44911.5</td>\n",
       "      <td>49459.5</td>\n",
       "      <td>53439.00</td>\n",
       "      <td>67083.0</td>\n",
       "    </tr>\n",
       "    <tr>\n",
       "      <th>Miles</th>\n",
       "      <td>60.0</td>\n",
       "      <td>87.933333</td>\n",
       "      <td>33.263135</td>\n",
       "      <td>21.0</td>\n",
       "      <td>64.0</td>\n",
       "      <td>85.0</td>\n",
       "      <td>106.00</td>\n",
       "      <td>212.0</td>\n",
       "    </tr>\n",
       "    <tr>\n",
       "      <th>Product_Price</th>\n",
       "      <td>60.0</td>\n",
       "      <td>1750.000000</td>\n",
       "      <td>0.000000</td>\n",
       "      <td>1750.0</td>\n",
       "      <td>1750.0</td>\n",
       "      <td>1750.0</td>\n",
       "      <td>1750.00</td>\n",
       "      <td>1750.0</td>\n",
       "    </tr>\n",
       "  </tbody>\n",
       "</table>\n",
       "</div>"
      ],
      "text/plain": [
       "               count          mean          std      min      25%      50%  \\\n",
       "Age             60.0     28.900000     6.645248     19.0     24.0     26.0   \n",
       "Education       60.0     15.116667     1.222552     12.0     14.0     16.0   \n",
       "Usage           60.0      3.066667     0.799717      2.0      3.0      3.0   \n",
       "Fitness         60.0      2.900000     0.629770      1.0      3.0      3.0   \n",
       "Income          60.0  48973.650000  8653.989388  31836.0  44911.5  49459.5   \n",
       "Miles           60.0     87.933333    33.263135     21.0     64.0     85.0   \n",
       "Product_Price   60.0   1750.000000     0.000000   1750.0   1750.0   1750.0   \n",
       "\n",
       "                    75%      max  \n",
       "Age               33.25     48.0  \n",
       "Education         16.00     18.0  \n",
       "Usage              3.25      5.0  \n",
       "Fitness            3.00      4.0  \n",
       "Income         53439.00  67083.0  \n",
       "Miles            106.00    212.0  \n",
       "Product_Price   1750.00   1750.0  "
      ]
     },
     "execution_count": 60,
     "metadata": {},
     "output_type": "execute_result"
    }
   ],
   "source": [
    "product_cat_2.describe().T"
   ]
  },
  {
   "cell_type": "code",
   "execution_count": 61,
   "id": "3054d485",
   "metadata": {},
   "outputs": [
    {
     "data": {
      "text/html": [
       "<div>\n",
       "<style scoped>\n",
       "    .dataframe tbody tr th:only-of-type {\n",
       "        vertical-align: middle;\n",
       "    }\n",
       "\n",
       "    .dataframe tbody tr th {\n",
       "        vertical-align: top;\n",
       "    }\n",
       "\n",
       "    .dataframe thead th {\n",
       "        text-align: right;\n",
       "    }\n",
       "</style>\n",
       "<table border=\"1\" class=\"dataframe\">\n",
       "  <thead>\n",
       "    <tr style=\"text-align: right;\">\n",
       "      <th></th>\n",
       "      <th>count</th>\n",
       "      <th>unique</th>\n",
       "      <th>top</th>\n",
       "      <th>freq</th>\n",
       "    </tr>\n",
       "  </thead>\n",
       "  <tbody>\n",
       "    <tr>\n",
       "      <th>Product</th>\n",
       "      <td>60</td>\n",
       "      <td>1</td>\n",
       "      <td>KP481</td>\n",
       "      <td>60</td>\n",
       "    </tr>\n",
       "    <tr>\n",
       "      <th>Gender</th>\n",
       "      <td>60</td>\n",
       "      <td>2</td>\n",
       "      <td>Male</td>\n",
       "      <td>31</td>\n",
       "    </tr>\n",
       "    <tr>\n",
       "      <th>MaritalStatus</th>\n",
       "      <td>60</td>\n",
       "      <td>2</td>\n",
       "      <td>Partnered</td>\n",
       "      <td>36</td>\n",
       "    </tr>\n",
       "  </tbody>\n",
       "</table>\n",
       "</div>"
      ],
      "text/plain": [
       "              count unique        top freq\n",
       "Product          60      1      KP481   60\n",
       "Gender           60      2       Male   31\n",
       "MaritalStatus    60      2  Partnered   36"
      ]
     },
     "execution_count": 61,
     "metadata": {},
     "output_type": "execute_result"
    }
   ],
   "source": [
    "product_cat_2.select_dtypes('object').describe().T"
   ]
  },
  {
   "cell_type": "code",
   "execution_count": 62,
   "id": "669a21a3",
   "metadata": {},
   "outputs": [
    {
     "name": "stdout",
     "output_type": "stream",
     "text": [
      "Avg. Income : 48973.65\n",
      "Max Income : 67083\n",
      "Min Income : 31836\n"
     ]
    }
   ],
   "source": [
    "print(f\"Avg. Income : {product_cat_2['Income'].mean()}\")\n",
    "print(f\"Max Income : {product_cat_2['Income'].max()}\")\n",
    "print(f\"Min Income : {product_cat_2['Income'].min()}\")"
   ]
  },
  {
   "cell_type": "code",
   "execution_count": 63,
   "id": "5cf27161",
   "metadata": {},
   "outputs": [
    {
     "name": "stdout",
     "output_type": "stream",
     "text": [
      "Avg. Age : 28.9\n",
      "Max Age : 48\n",
      "Min Age : 19\n"
     ]
    }
   ],
   "source": [
    "print(f\"Avg. Age : {product_cat_2['Age'].mean()}\")\n",
    "print(f\"Max Age : {product_cat_2['Age'].max()}\")\n",
    "print(f\"Min Age : {product_cat_2['Age'].min()}\")"
   ]
  },
  {
   "cell_type": "markdown",
   "id": "6db46919",
   "metadata": {},
   "source": [
    "#### 2) 3. KP781 Customer Profile:"
   ]
  },
  {
   "cell_type": "code",
   "execution_count": 64,
   "id": "60ef481a",
   "metadata": {},
   "outputs": [],
   "source": [
    "product_cat_3 = df[df['Product']=='KP781']"
   ]
  },
  {
   "cell_type": "code",
   "execution_count": 68,
   "id": "cb03ca59",
   "metadata": {},
   "outputs": [
    {
     "data": {
      "text/html": [
       "<div>\n",
       "<style scoped>\n",
       "    .dataframe tbody tr th:only-of-type {\n",
       "        vertical-align: middle;\n",
       "    }\n",
       "\n",
       "    .dataframe tbody tr th {\n",
       "        vertical-align: top;\n",
       "    }\n",
       "\n",
       "    .dataframe thead th {\n",
       "        text-align: right;\n",
       "    }\n",
       "</style>\n",
       "<table border=\"1\" class=\"dataframe\">\n",
       "  <thead>\n",
       "    <tr style=\"text-align: right;\">\n",
       "      <th></th>\n",
       "      <th>count</th>\n",
       "      <th>mean</th>\n",
       "      <th>std</th>\n",
       "      <th>min</th>\n",
       "      <th>25%</th>\n",
       "      <th>50%</th>\n",
       "      <th>75%</th>\n",
       "      <th>max</th>\n",
       "    </tr>\n",
       "  </thead>\n",
       "  <tbody>\n",
       "    <tr>\n",
       "      <th>Age</th>\n",
       "      <td>40.0</td>\n",
       "      <td>29.100</td>\n",
       "      <td>6.971738</td>\n",
       "      <td>22.0</td>\n",
       "      <td>24.75</td>\n",
       "      <td>27.0</td>\n",
       "      <td>30.25</td>\n",
       "      <td>48.0</td>\n",
       "    </tr>\n",
       "    <tr>\n",
       "      <th>Education</th>\n",
       "      <td>40.0</td>\n",
       "      <td>17.325</td>\n",
       "      <td>1.639066</td>\n",
       "      <td>14.0</td>\n",
       "      <td>16.00</td>\n",
       "      <td>18.0</td>\n",
       "      <td>18.00</td>\n",
       "      <td>21.0</td>\n",
       "    </tr>\n",
       "    <tr>\n",
       "      <th>Usage</th>\n",
       "      <td>40.0</td>\n",
       "      <td>4.775</td>\n",
       "      <td>0.946993</td>\n",
       "      <td>3.0</td>\n",
       "      <td>4.00</td>\n",
       "      <td>5.0</td>\n",
       "      <td>5.00</td>\n",
       "      <td>7.0</td>\n",
       "    </tr>\n",
       "    <tr>\n",
       "      <th>Fitness</th>\n",
       "      <td>40.0</td>\n",
       "      <td>4.625</td>\n",
       "      <td>0.667467</td>\n",
       "      <td>3.0</td>\n",
       "      <td>4.00</td>\n",
       "      <td>5.0</td>\n",
       "      <td>5.00</td>\n",
       "      <td>5.0</td>\n",
       "    </tr>\n",
       "    <tr>\n",
       "      <th>Income</th>\n",
       "      <td>40.0</td>\n",
       "      <td>75441.575</td>\n",
       "      <td>18505.836720</td>\n",
       "      <td>48556.0</td>\n",
       "      <td>58204.75</td>\n",
       "      <td>76568.5</td>\n",
       "      <td>90886.00</td>\n",
       "      <td>104581.0</td>\n",
       "    </tr>\n",
       "    <tr>\n",
       "      <th>Miles</th>\n",
       "      <td>40.0</td>\n",
       "      <td>166.900</td>\n",
       "      <td>60.066544</td>\n",
       "      <td>80.0</td>\n",
       "      <td>120.00</td>\n",
       "      <td>160.0</td>\n",
       "      <td>200.00</td>\n",
       "      <td>360.0</td>\n",
       "    </tr>\n",
       "    <tr>\n",
       "      <th>Product_Price</th>\n",
       "      <td>40.0</td>\n",
       "      <td>2500.000</td>\n",
       "      <td>0.000000</td>\n",
       "      <td>2500.0</td>\n",
       "      <td>2500.00</td>\n",
       "      <td>2500.0</td>\n",
       "      <td>2500.00</td>\n",
       "      <td>2500.0</td>\n",
       "    </tr>\n",
       "  </tbody>\n",
       "</table>\n",
       "</div>"
      ],
      "text/plain": [
       "               count       mean           std      min       25%      50%  \\\n",
       "Age             40.0     29.100      6.971738     22.0     24.75     27.0   \n",
       "Education       40.0     17.325      1.639066     14.0     16.00     18.0   \n",
       "Usage           40.0      4.775      0.946993      3.0      4.00      5.0   \n",
       "Fitness         40.0      4.625      0.667467      3.0      4.00      5.0   \n",
       "Income          40.0  75441.575  18505.836720  48556.0  58204.75  76568.5   \n",
       "Miles           40.0    166.900     60.066544     80.0    120.00    160.0   \n",
       "Product_Price   40.0   2500.000      0.000000   2500.0   2500.00   2500.0   \n",
       "\n",
       "                    75%       max  \n",
       "Age               30.25      48.0  \n",
       "Education         18.00      21.0  \n",
       "Usage              5.00       7.0  \n",
       "Fitness            5.00       5.0  \n",
       "Income         90886.00  104581.0  \n",
       "Miles            200.00     360.0  \n",
       "Product_Price   2500.00    2500.0  "
      ]
     },
     "execution_count": 68,
     "metadata": {},
     "output_type": "execute_result"
    }
   ],
   "source": [
    "product_cat_3.describe().T"
   ]
  },
  {
   "cell_type": "code",
   "execution_count": 69,
   "id": "f9aa2479",
   "metadata": {},
   "outputs": [
    {
     "data": {
      "text/html": [
       "<div>\n",
       "<style scoped>\n",
       "    .dataframe tbody tr th:only-of-type {\n",
       "        vertical-align: middle;\n",
       "    }\n",
       "\n",
       "    .dataframe tbody tr th {\n",
       "        vertical-align: top;\n",
       "    }\n",
       "\n",
       "    .dataframe thead th {\n",
       "        text-align: right;\n",
       "    }\n",
       "</style>\n",
       "<table border=\"1\" class=\"dataframe\">\n",
       "  <thead>\n",
       "    <tr style=\"text-align: right;\">\n",
       "      <th></th>\n",
       "      <th>count</th>\n",
       "      <th>unique</th>\n",
       "      <th>top</th>\n",
       "      <th>freq</th>\n",
       "    </tr>\n",
       "  </thead>\n",
       "  <tbody>\n",
       "    <tr>\n",
       "      <th>Product</th>\n",
       "      <td>40</td>\n",
       "      <td>1</td>\n",
       "      <td>KP781</td>\n",
       "      <td>40</td>\n",
       "    </tr>\n",
       "    <tr>\n",
       "      <th>Gender</th>\n",
       "      <td>40</td>\n",
       "      <td>2</td>\n",
       "      <td>Male</td>\n",
       "      <td>33</td>\n",
       "    </tr>\n",
       "    <tr>\n",
       "      <th>MaritalStatus</th>\n",
       "      <td>40</td>\n",
       "      <td>2</td>\n",
       "      <td>Partnered</td>\n",
       "      <td>23</td>\n",
       "    </tr>\n",
       "  </tbody>\n",
       "</table>\n",
       "</div>"
      ],
      "text/plain": [
       "              count unique        top freq\n",
       "Product          40      1      KP781   40\n",
       "Gender           40      2       Male   33\n",
       "MaritalStatus    40      2  Partnered   23"
      ]
     },
     "execution_count": 69,
     "metadata": {},
     "output_type": "execute_result"
    }
   ],
   "source": [
    "product_cat_3.select_dtypes('object').describe().T"
   ]
  },
  {
   "cell_type": "code",
   "execution_count": 70,
   "id": "c2bb6d60",
   "metadata": {},
   "outputs": [
    {
     "name": "stdout",
     "output_type": "stream",
     "text": [
      "Avg. Income : 75441.575\n",
      "Max Income : 104581\n",
      "Min Income : 48556\n"
     ]
    }
   ],
   "source": [
    "print(f\"Avg. Income : {product_cat_3['Income'].mean()}\")\n",
    "print(f\"Max Income : {product_cat_3['Income'].max()}\")\n",
    "print(f\"Min Income : {product_cat_3['Income'].min()}\")"
   ]
  },
  {
   "cell_type": "code",
   "execution_count": 71,
   "id": "50d1ce30",
   "metadata": {},
   "outputs": [
    {
     "name": "stdout",
     "output_type": "stream",
     "text": [
      "Avg. Age : 29.1\n",
      "Max Age : 48\n",
      "Min Age : 22\n"
     ]
    }
   ],
   "source": [
    "print(f\"Avg. Age : {product_cat_3['Age'].mean()}\")\n",
    "print(f\"Max Age : {product_cat_3['Age'].max()}\")\n",
    "print(f\"Min Age : {product_cat_3['Age'].min()}\")"
   ]
  },
  {
   "cell_type": "markdown",
   "id": "153b26b7",
   "metadata": {},
   "source": [
    "#### 2) 4. Usage Patterns - KP281:"
   ]
  },
  {
   "cell_type": "code",
   "execution_count": 72,
   "id": "617d4461",
   "metadata": {},
   "outputs": [],
   "source": [
    "product_1 = df[df['Product']=='KP281']"
   ]
  },
  {
   "cell_type": "code",
   "execution_count": 73,
   "id": "1eb4a46b",
   "metadata": {},
   "outputs": [
    {
     "name": "stdout",
     "output_type": "stream",
     "text": [
      "Avg. Usage : 3.0875\n",
      "Max Usage : 5\n",
      "Min Usage : 2\n"
     ]
    }
   ],
   "source": [
    "print(f\"Avg. Usage : {product_1['Usage'].mean()}\")\n",
    "print(f\"Max Usage : {product_1['Usage'].max()}\")\n",
    "print(f\"Min Usage : {product_1['Usage'].min()}\")"
   ]
  },
  {
   "cell_type": "code",
   "execution_count": 74,
   "id": "ef726a89",
   "metadata": {},
   "outputs": [
    {
     "data": {
      "text/plain": [
       "count    80.000000\n",
       "mean      3.087500\n",
       "std       0.782624\n",
       "min       2.000000\n",
       "25%       3.000000\n",
       "50%       3.000000\n",
       "75%       4.000000\n",
       "max       5.000000\n",
       "Name: Usage, dtype: float64"
      ]
     },
     "execution_count": 74,
     "metadata": {},
     "output_type": "execute_result"
    }
   ],
   "source": [
    "product_1['Usage'].describe()"
   ]
  },
  {
   "cell_type": "code",
   "execution_count": 75,
   "id": "f284bf86",
   "metadata": {},
   "outputs": [
    {
     "name": "stdout",
     "output_type": "stream",
     "text": [
      "Avg. Miles : 82.7875\n",
      "Max Miles : 188\n",
      "Min Miles : 38\n"
     ]
    }
   ],
   "source": [
    "print(f\"Avg. Miles : {product_1['Miles'].mean()}\")\n",
    "print(f\"Max Miles : {product_1['Miles'].max()}\")\n",
    "print(f\"Min Miles : {product_1['Miles'].min()}\")"
   ]
  },
  {
   "cell_type": "code",
   "execution_count": 76,
   "id": "1eece25a",
   "metadata": {},
   "outputs": [
    {
     "data": {
      "text/plain": [
       "count     80.000000\n",
       "mean      82.787500\n",
       "std       28.874102\n",
       "min       38.000000\n",
       "25%       66.000000\n",
       "50%       85.000000\n",
       "75%       94.000000\n",
       "max      188.000000\n",
       "Name: Miles, dtype: float64"
      ]
     },
     "execution_count": 76,
     "metadata": {},
     "output_type": "execute_result"
    }
   ],
   "source": [
    "product_1['Miles'].describe()"
   ]
  },
  {
   "cell_type": "markdown",
   "id": "f09084eb",
   "metadata": {},
   "source": [
    "#### 2) 5. Usage Patterns - KP481:"
   ]
  },
  {
   "cell_type": "code",
   "execution_count": 77,
   "id": "da4f9894",
   "metadata": {},
   "outputs": [],
   "source": [
    "product_2 = df[df['Product']=='KP481']"
   ]
  },
  {
   "cell_type": "code",
   "execution_count": 78,
   "id": "b7ebd5d0",
   "metadata": {},
   "outputs": [
    {
     "name": "stdout",
     "output_type": "stream",
     "text": [
      "Avg. Usage : 3.066666666666667\n",
      "Max Usage : 5\n",
      "Min Usage : 2\n"
     ]
    }
   ],
   "source": [
    "print(f\"Avg. Usage : {product_2['Usage'].mean()}\")\n",
    "print(f\"Max Usage : {product_2['Usage'].max()}\")\n",
    "print(f\"Min Usage : {product_2['Usage'].min()}\")"
   ]
  },
  {
   "cell_type": "code",
   "execution_count": 79,
   "id": "927804db",
   "metadata": {},
   "outputs": [
    {
     "data": {
      "text/plain": [
       "count    60.000000\n",
       "mean      3.066667\n",
       "std       0.799717\n",
       "min       2.000000\n",
       "25%       3.000000\n",
       "50%       3.000000\n",
       "75%       3.250000\n",
       "max       5.000000\n",
       "Name: Usage, dtype: float64"
      ]
     },
     "execution_count": 79,
     "metadata": {},
     "output_type": "execute_result"
    }
   ],
   "source": [
    "product_2['Usage'].describe()"
   ]
  },
  {
   "cell_type": "code",
   "execution_count": 80,
   "id": "35df7c6b",
   "metadata": {},
   "outputs": [
    {
     "name": "stdout",
     "output_type": "stream",
     "text": [
      "Avg. Miles : 87.93333333333334\n",
      "Max Miles : 212\n",
      "Min Miles : 21\n"
     ]
    }
   ],
   "source": [
    "print(f\"Avg. Miles : {product_2['Miles'].mean()}\")\n",
    "print(f\"Max Miles : {product_2['Miles'].max()}\")\n",
    "print(f\"Min Miles : {product_2['Miles'].min()}\")"
   ]
  },
  {
   "cell_type": "code",
   "execution_count": 81,
   "id": "511a27ca",
   "metadata": {},
   "outputs": [
    {
     "data": {
      "text/plain": [
       "count     60.000000\n",
       "mean      87.933333\n",
       "std       33.263135\n",
       "min       21.000000\n",
       "25%       64.000000\n",
       "50%       85.000000\n",
       "75%      106.000000\n",
       "max      212.000000\n",
       "Name: Miles, dtype: float64"
      ]
     },
     "execution_count": 81,
     "metadata": {},
     "output_type": "execute_result"
    }
   ],
   "source": [
    "product_2['Miles'].describe()"
   ]
  },
  {
   "cell_type": "markdown",
   "id": "10855754",
   "metadata": {},
   "source": [
    "#### 2) 6. Usage Patterns - KP781:"
   ]
  },
  {
   "cell_type": "code",
   "execution_count": 82,
   "id": "9666bf99",
   "metadata": {},
   "outputs": [],
   "source": [
    "product_3 = df[df['Product']=='KP781']"
   ]
  },
  {
   "cell_type": "code",
   "execution_count": 83,
   "id": "ec8feba1",
   "metadata": {},
   "outputs": [
    {
     "name": "stdout",
     "output_type": "stream",
     "text": [
      "Avg. Usage : 4.775\n",
      "Max Usage : 7\n",
      "Min Usage : 3\n"
     ]
    }
   ],
   "source": [
    "print(f\"Avg. Usage : {product_3['Usage'].mean()}\")\n",
    "print(f\"Max Usage : {product_3['Usage'].max()}\")\n",
    "print(f\"Min Usage : {product_3['Usage'].min()}\")"
   ]
  },
  {
   "cell_type": "code",
   "execution_count": 84,
   "id": "5b255a19",
   "metadata": {},
   "outputs": [
    {
     "data": {
      "text/plain": [
       "count    40.000000\n",
       "mean      4.775000\n",
       "std       0.946993\n",
       "min       3.000000\n",
       "25%       4.000000\n",
       "50%       5.000000\n",
       "75%       5.000000\n",
       "max       7.000000\n",
       "Name: Usage, dtype: float64"
      ]
     },
     "execution_count": 84,
     "metadata": {},
     "output_type": "execute_result"
    }
   ],
   "source": [
    "product_3['Usage'].describe()"
   ]
  },
  {
   "cell_type": "code",
   "execution_count": 85,
   "id": "9b0a5c42",
   "metadata": {},
   "outputs": [
    {
     "name": "stdout",
     "output_type": "stream",
     "text": [
      "Avg. Miles : 166.9\n",
      "Max Miles : 360\n",
      "Min Miles : 80\n"
     ]
    }
   ],
   "source": [
    "print(f\"Avg. Miles : {product_3['Miles'].mean()}\")\n",
    "print(f\"Max Miles : {product_3['Miles'].max()}\")\n",
    "print(f\"Min Miles : {product_3['Miles'].min()}\")"
   ]
  },
  {
   "cell_type": "code",
   "execution_count": 86,
   "id": "a798973a",
   "metadata": {},
   "outputs": [
    {
     "data": {
      "text/plain": [
       "count     40.000000\n",
       "mean     166.900000\n",
       "std       60.066544\n",
       "min       80.000000\n",
       "25%      120.000000\n",
       "50%      160.000000\n",
       "75%      200.000000\n",
       "max      360.000000\n",
       "Name: Miles, dtype: float64"
      ]
     },
     "execution_count": 86,
     "metadata": {},
     "output_type": "execute_result"
    }
   ],
   "source": [
    "product_3['Miles'].describe()"
   ]
  },
  {
   "cell_type": "markdown",
   "id": "69b7cee4",
   "metadata": {},
   "source": [
    "#### 2) 7. Fitness Levels - KP781:"
   ]
  },
  {
   "cell_type": "code",
   "execution_count": 87,
   "id": "cc6e9363",
   "metadata": {},
   "outputs": [
    {
     "data": {
      "text/plain": [
       "4.625"
      ]
     },
     "execution_count": 87,
     "metadata": {},
     "output_type": "execute_result"
    }
   ],
   "source": [
    "df[df['Product']=='KP781']['Fitness'].mean()"
   ]
  },
  {
   "cell_type": "code",
   "execution_count": 88,
   "id": "ff17410a",
   "metadata": {},
   "outputs": [
    {
     "data": {
      "text/plain": [
       "0.925"
      ]
     },
     "execution_count": 88,
     "metadata": {},
     "output_type": "execute_result"
    }
   ],
   "source": [
    "df[df['Product']=='KP781']['Fitness'].mean()/df[df['Product']=='KP781']['Fitness'].max()"
   ]
  },
  {
   "cell_type": "markdown",
   "id": "a525e7df",
   "metadata": {},
   "source": [
    "#### 2) 8. Gender Preferences - KP781:"
   ]
  },
  {
   "cell_type": "code",
   "execution_count": 93,
   "id": "c895f44f",
   "metadata": {},
   "outputs": [],
   "source": [
    "product_781 = df[df['Product']=='KP781']"
   ]
  },
  {
   "cell_type": "code",
   "execution_count": 94,
   "id": "7401c413",
   "metadata": {},
   "outputs": [
    {
     "data": {
      "text/plain": [
       "Gender\n",
       "Female    5.000000\n",
       "Male      4.727273\n",
       "Name: Usage, dtype: float64"
      ]
     },
     "execution_count": 94,
     "metadata": {},
     "output_type": "execute_result"
    }
   ],
   "source": [
    "product_781.groupby('Gender')['Usage'].mean()"
   ]
  },
  {
   "cell_type": "code",
   "execution_count": 95,
   "id": "89e089eb",
   "metadata": {},
   "outputs": [
    {
     "data": {
      "text/plain": [
       "Gender\n",
       "Female    180.000000\n",
       "Male      164.121212\n",
       "Name: Miles, dtype: float64"
      ]
     },
     "execution_count": 95,
     "metadata": {},
     "output_type": "execute_result"
    }
   ],
   "source": [
    "product_781.groupby('Gender')['Miles'].mean()"
   ]
  },
  {
   "cell_type": "markdown",
   "id": "652ab334",
   "metadata": {},
   "source": [
    "Female uses more"
   ]
  },
  {
   "cell_type": "code",
   "execution_count": 96,
   "id": "060cdeed",
   "metadata": {},
   "outputs": [
    {
     "data": {
      "text/plain": [
       "Male      33\n",
       "Female     7\n",
       "Name: Gender, dtype: int64"
      ]
     },
     "execution_count": 96,
     "metadata": {},
     "output_type": "execute_result"
    }
   ],
   "source": [
    "product_781['Gender'].value_counts()"
   ]
  },
  {
   "cell_type": "code",
   "execution_count": 97,
   "id": "02c7cb56",
   "metadata": {},
   "outputs": [
    {
     "data": {
      "text/plain": [
       "0.3173076923076923"
      ]
     },
     "execution_count": 97,
     "metadata": {},
     "output_type": "execute_result"
    }
   ],
   "source": [
    "## purchase probability for male \n",
    "product_781['Gender'].value_counts()['Male']/df['Gender'].value_counts()['Male']"
   ]
  },
  {
   "cell_type": "code",
   "execution_count": 98,
   "id": "a8bab38d",
   "metadata": {},
   "outputs": [
    {
     "data": {
      "text/plain": [
       "0.09210526315789473"
      ]
     },
     "execution_count": 98,
     "metadata": {},
     "output_type": "execute_result"
    }
   ],
   "source": [
    "## purchase probability for female\n",
    "product_781['Gender'].value_counts()['Female']/df['Gender'].value_counts()['Female']"
   ]
  },
  {
   "cell_type": "markdown",
   "id": "bcc5e749",
   "metadata": {},
   "source": [
    "#### 2) 9. Marital Status and Product Recommendation - KP781:"
   ]
  },
  {
   "cell_type": "code",
   "execution_count": 99,
   "id": "740c595d",
   "metadata": {},
   "outputs": [
    {
     "data": {
      "text/plain": [
       "Partnered    23\n",
       "Single       17\n",
       "Name: MaritalStatus, dtype: int64"
      ]
     },
     "execution_count": 99,
     "metadata": {},
     "output_type": "execute_result"
    }
   ],
   "source": [
    "product_781['MaritalStatus'].value_counts()"
   ]
  },
  {
   "cell_type": "code",
   "execution_count": 100,
   "id": "5600d995",
   "metadata": {},
   "outputs": [
    {
     "data": {
      "text/plain": [
       "0.2328767123287671"
      ]
     },
     "execution_count": 100,
     "metadata": {},
     "output_type": "execute_result"
    }
   ],
   "source": [
    "## purchase probability for Singles\n",
    "product_781['MaritalStatus'].value_counts()['Single']/df['MaritalStatus'].value_counts()['Single']"
   ]
  },
  {
   "cell_type": "code",
   "execution_count": 101,
   "id": "4957831c",
   "metadata": {},
   "outputs": [
    {
     "data": {
      "text/plain": [
       "0.21495327102803738"
      ]
     },
     "execution_count": 101,
     "metadata": {},
     "output_type": "execute_result"
    }
   ],
   "source": [
    "## purchase probability for Partnered\n",
    "product_781['MaritalStatus'].value_counts()['Partnered']/df['MaritalStatus'].value_counts()['Partnered']"
   ]
  },
  {
   "cell_type": "code",
   "execution_count": 102,
   "id": "187f44ac",
   "metadata": {},
   "outputs": [
    {
     "data": {
      "text/html": [
       "<div>\n",
       "<style scoped>\n",
       "    .dataframe tbody tr th:only-of-type {\n",
       "        vertical-align: middle;\n",
       "    }\n",
       "\n",
       "    .dataframe tbody tr th {\n",
       "        vertical-align: top;\n",
       "    }\n",
       "\n",
       "    .dataframe thead th {\n",
       "        text-align: right;\n",
       "    }\n",
       "</style>\n",
       "<table border=\"1\" class=\"dataframe\">\n",
       "  <thead>\n",
       "    <tr style=\"text-align: right;\">\n",
       "      <th></th>\n",
       "      <th>Usage</th>\n",
       "      <th>Miles</th>\n",
       "    </tr>\n",
       "    <tr>\n",
       "      <th>MaritalStatus</th>\n",
       "      <th></th>\n",
       "      <th></th>\n",
       "    </tr>\n",
       "  </thead>\n",
       "  <tbody>\n",
       "    <tr>\n",
       "      <th>Partnered</th>\n",
       "      <td>4.913043</td>\n",
       "      <td>183.043478</td>\n",
       "    </tr>\n",
       "    <tr>\n",
       "      <th>Single</th>\n",
       "      <td>4.588235</td>\n",
       "      <td>145.058824</td>\n",
       "    </tr>\n",
       "  </tbody>\n",
       "</table>\n",
       "</div>"
      ],
      "text/plain": [
       "                  Usage       Miles\n",
       "MaritalStatus                      \n",
       "Partnered      4.913043  183.043478\n",
       "Single         4.588235  145.058824"
      ]
     },
     "execution_count": 102,
     "metadata": {},
     "output_type": "execute_result"
    }
   ],
   "source": [
    "product_781.groupby('MaritalStatus')[['Usage','Miles']].mean()"
   ]
  },
  {
   "cell_type": "code",
   "execution_count": 103,
   "id": "718ee1ea",
   "metadata": {},
   "outputs": [
    {
     "data": {
      "text/html": [
       "<div>\n",
       "<style scoped>\n",
       "    .dataframe tbody tr th:only-of-type {\n",
       "        vertical-align: middle;\n",
       "    }\n",
       "\n",
       "    .dataframe tbody tr th {\n",
       "        vertical-align: top;\n",
       "    }\n",
       "\n",
       "    .dataframe thead th {\n",
       "        text-align: right;\n",
       "    }\n",
       "</style>\n",
       "<table border=\"1\" class=\"dataframe\">\n",
       "  <thead>\n",
       "    <tr style=\"text-align: right;\">\n",
       "      <th>Product</th>\n",
       "      <th>KP281</th>\n",
       "      <th>KP481</th>\n",
       "      <th>KP781</th>\n",
       "    </tr>\n",
       "    <tr>\n",
       "      <th>MaritalStatus</th>\n",
       "      <th></th>\n",
       "      <th></th>\n",
       "      <th></th>\n",
       "    </tr>\n",
       "  </thead>\n",
       "  <tbody>\n",
       "    <tr>\n",
       "      <th>Partnered</th>\n",
       "      <td>77.229167</td>\n",
       "      <td>90.055556</td>\n",
       "      <td>183.043478</td>\n",
       "    </tr>\n",
       "    <tr>\n",
       "      <th>Single</th>\n",
       "      <td>91.125000</td>\n",
       "      <td>84.750000</td>\n",
       "      <td>145.058824</td>\n",
       "    </tr>\n",
       "  </tbody>\n",
       "</table>\n",
       "</div>"
      ],
      "text/plain": [
       "Product            KP281      KP481       KP781\n",
       "MaritalStatus                                  \n",
       "Partnered      77.229167  90.055556  183.043478\n",
       "Single         91.125000  84.750000  145.058824"
      ]
     },
     "execution_count": 103,
     "metadata": {},
     "output_type": "execute_result"
    }
   ],
   "source": [
    "pd.pivot_table(df,columns='MaritalStatus',index = 'Product',values='Miles',aggfunc='mean').T"
   ]
  },
  {
   "cell_type": "code",
   "execution_count": 104,
   "id": "bfa71c0d",
   "metadata": {},
   "outputs": [
    {
     "data": {
      "text/html": [
       "<div>\n",
       "<style scoped>\n",
       "    .dataframe tbody tr th:only-of-type {\n",
       "        vertical-align: middle;\n",
       "    }\n",
       "\n",
       "    .dataframe tbody tr th {\n",
       "        vertical-align: top;\n",
       "    }\n",
       "\n",
       "    .dataframe thead th {\n",
       "        text-align: right;\n",
       "    }\n",
       "</style>\n",
       "<table border=\"1\" class=\"dataframe\">\n",
       "  <thead>\n",
       "    <tr style=\"text-align: right;\">\n",
       "      <th>Product</th>\n",
       "      <th>KP281</th>\n",
       "      <th>KP481</th>\n",
       "      <th>KP781</th>\n",
       "    </tr>\n",
       "    <tr>\n",
       "      <th>MaritalStatus</th>\n",
       "      <th></th>\n",
       "      <th></th>\n",
       "      <th></th>\n",
       "    </tr>\n",
       "  </thead>\n",
       "  <tbody>\n",
       "    <tr>\n",
       "      <th>Partnered</th>\n",
       "      <td>3.041667</td>\n",
       "      <td>3.055556</td>\n",
       "      <td>4.913043</td>\n",
       "    </tr>\n",
       "    <tr>\n",
       "      <th>Single</th>\n",
       "      <td>3.156250</td>\n",
       "      <td>3.083333</td>\n",
       "      <td>4.588235</td>\n",
       "    </tr>\n",
       "  </tbody>\n",
       "</table>\n",
       "</div>"
      ],
      "text/plain": [
       "Product           KP281     KP481     KP781\n",
       "MaritalStatus                              \n",
       "Partnered      3.041667  3.055556  4.913043\n",
       "Single         3.156250  3.083333  4.588235"
      ]
     },
     "execution_count": 104,
     "metadata": {},
     "output_type": "execute_result"
    }
   ],
   "source": [
    "pd.pivot_table(df,columns='MaritalStatus',index = 'Product',values='Usage',aggfunc='mean').T"
   ]
  },
  {
   "cell_type": "markdown",
   "id": "969780a7",
   "metadata": {},
   "source": [
    "#### 2) 10. Age Categories - KP781:"
   ]
  },
  {
   "cell_type": "code",
   "execution_count": 105,
   "id": "8509d906",
   "metadata": {},
   "outputs": [
    {
     "data": {
      "text/plain": [
       "29.1"
      ]
     },
     "execution_count": 105,
     "metadata": {},
     "output_type": "execute_result"
    }
   ],
   "source": [
    "product_781['Age'].mean()"
   ]
  },
  {
   "cell_type": "code",
   "execution_count": 106,
   "id": "a3750ea3",
   "metadata": {},
   "outputs": [
    {
     "data": {
      "text/plain": [
       "48"
      ]
     },
     "execution_count": 106,
     "metadata": {},
     "output_type": "execute_result"
    }
   ],
   "source": [
    "product_781['Age'].max()"
   ]
  },
  {
   "cell_type": "code",
   "execution_count": 107,
   "id": "38b5ccac",
   "metadata": {},
   "outputs": [
    {
     "data": {
      "text/plain": [
       "22"
      ]
     },
     "execution_count": 107,
     "metadata": {},
     "output_type": "execute_result"
    }
   ],
   "source": [
    "product_781['Age'].min()"
   ]
  },
  {
   "cell_type": "markdown",
   "id": "4ba3787c",
   "metadata": {},
   "source": [
    "The mean age is 29.1 while ranging from 22 to 48"
   ]
  },
  {
   "cell_type": "markdown",
   "id": "726eeec0",
   "metadata": {},
   "source": [
    "#### 2) 11. Product Recommendations for KP781:"
   ]
  },
  {
   "cell_type": "code",
   "execution_count": 109,
   "id": "64bd50ce",
   "metadata": {},
   "outputs": [
    {
     "data": {
      "text/plain": [
       "Income    75441.575\n",
       "Miles       166.900\n",
       "Usage         4.775\n",
       "dtype: float64"
      ]
     },
     "execution_count": 109,
     "metadata": {},
     "output_type": "execute_result"
    }
   ],
   "source": [
    "product_781[['Income','Miles','Usage']].mean()"
   ]
  },
  {
   "cell_type": "code",
   "execution_count": 110,
   "id": "fe8bfaa3",
   "metadata": {},
   "outputs": [
    {
     "data": {
      "text/plain": [
       "7"
      ]
     },
     "execution_count": 110,
     "metadata": {},
     "output_type": "execute_result"
    }
   ],
   "source": [
    "product_781['Usage'].max()"
   ]
  },
  {
   "cell_type": "code",
   "execution_count": 111,
   "id": "bdb087ff",
   "metadata": {},
   "outputs": [
    {
     "data": {
      "text/plain": [
       "Product\n",
       "KP281    3.087500\n",
       "KP481    3.066667\n",
       "KP781    4.775000\n",
       "Name: Usage, dtype: float64"
      ]
     },
     "execution_count": 111,
     "metadata": {},
     "output_type": "execute_result"
    }
   ],
   "source": [
    "df.groupby('Product')['Usage'].mean()"
   ]
  },
  {
   "cell_type": "code",
   "execution_count": 112,
   "id": "4624d746",
   "metadata": {},
   "outputs": [
    {
     "data": {
      "text/plain": [
       "360"
      ]
     },
     "execution_count": 112,
     "metadata": {},
     "output_type": "execute_result"
    }
   ],
   "source": [
    "product_781['Miles'].max()"
   ]
  },
  {
   "cell_type": "code",
   "execution_count": 113,
   "id": "0c29e56f",
   "metadata": {},
   "outputs": [
    {
     "data": {
      "text/plain": [
       "Product\n",
       "KP281     82.787500\n",
       "KP481     87.933333\n",
       "KP781    166.900000\n",
       "Name: Miles, dtype: float64"
      ]
     },
     "execution_count": 113,
     "metadata": {},
     "output_type": "execute_result"
    }
   ],
   "source": [
    "df.groupby('Product')['Miles'].mean()"
   ]
  },
  {
   "cell_type": "markdown",
   "id": "a69e968d",
   "metadata": {},
   "source": [
    "#### 2) 12. Product Recommendations for KP481:"
   ]
  },
  {
   "cell_type": "code",
   "execution_count": 114,
   "id": "c1c6c17a",
   "metadata": {},
   "outputs": [
    {
     "data": {
      "text/plain": [
       "KP281    80\n",
       "KP481    60\n",
       "KP781    40\n",
       "Name: Product, dtype: int64"
      ]
     },
     "execution_count": 114,
     "metadata": {},
     "output_type": "execute_result"
    }
   ],
   "source": [
    "df['Product'].value_counts()"
   ]
  },
  {
   "cell_type": "code",
   "execution_count": 115,
   "id": "5cbde464",
   "metadata": {},
   "outputs": [],
   "source": [
    "product_481 = df[df['Product']=='KP481']"
   ]
  },
  {
   "cell_type": "code",
   "execution_count": 116,
   "id": "fbbfd1c0",
   "metadata": {},
   "outputs": [
    {
     "data": {
      "text/plain": [
       "Age          28.900000\n",
       "Usage         3.066667\n",
       "Income    48973.650000\n",
       "Miles        87.933333\n",
       "dtype: float64"
      ]
     },
     "execution_count": 116,
     "metadata": {},
     "output_type": "execute_result"
    }
   ],
   "source": [
    "product_481[['Age','Usage','Income','Miles']].mean()"
   ]
  },
  {
   "cell_type": "code",
   "execution_count": 117,
   "id": "2f92e90c",
   "metadata": {},
   "outputs": [
    {
     "data": {
      "text/plain": [
       "Age          48\n",
       "Usage         5\n",
       "Income    67083\n",
       "Miles       212\n",
       "dtype: int64"
      ]
     },
     "execution_count": 117,
     "metadata": {},
     "output_type": "execute_result"
    }
   ],
   "source": [
    "product_481[['Age','Usage','Income','Miles']].max()"
   ]
  },
  {
   "cell_type": "code",
   "execution_count": 118,
   "id": "29432482",
   "metadata": {},
   "outputs": [
    {
     "data": {
      "text/plain": [
       "Age          19\n",
       "Usage         2\n",
       "Income    31836\n",
       "Miles        21\n",
       "dtype: int64"
      ]
     },
     "execution_count": 118,
     "metadata": {},
     "output_type": "execute_result"
    }
   ],
   "source": [
    "product_481[['Age','Usage','Income','Miles']].min()"
   ]
  },
  {
   "cell_type": "code",
   "execution_count": 119,
   "id": "3f3e38f1",
   "metadata": {},
   "outputs": [
    {
     "data": {
      "text/plain": [
       "Gender\n",
       "Female    87.344828\n",
       "Male      88.483871\n",
       "Name: Miles, dtype: float64"
      ]
     },
     "execution_count": 119,
     "metadata": {},
     "output_type": "execute_result"
    }
   ],
   "source": [
    "product_481.groupby('Gender')['Miles'].mean()"
   ]
  },
  {
   "cell_type": "code",
   "execution_count": 120,
   "id": "bc43b355",
   "metadata": {},
   "outputs": [
    {
     "data": {
      "text/html": [
       "<div>\n",
       "<style scoped>\n",
       "    .dataframe tbody tr th:only-of-type {\n",
       "        vertical-align: middle;\n",
       "    }\n",
       "\n",
       "    .dataframe tbody tr th {\n",
       "        vertical-align: top;\n",
       "    }\n",
       "\n",
       "    .dataframe thead th {\n",
       "        text-align: right;\n",
       "    }\n",
       "</style>\n",
       "<table border=\"1\" class=\"dataframe\">\n",
       "  <thead>\n",
       "    <tr style=\"text-align: right;\">\n",
       "      <th>Product</th>\n",
       "      <th>KP281</th>\n",
       "      <th>KP481</th>\n",
       "      <th>KP781</th>\n",
       "    </tr>\n",
       "    <tr>\n",
       "      <th>Gender</th>\n",
       "      <th></th>\n",
       "      <th></th>\n",
       "      <th></th>\n",
       "    </tr>\n",
       "  </thead>\n",
       "  <tbody>\n",
       "    <tr>\n",
       "      <th>Female</th>\n",
       "      <td>76.200</td>\n",
       "      <td>87.344828</td>\n",
       "      <td>180.000000</td>\n",
       "    </tr>\n",
       "    <tr>\n",
       "      <th>Male</th>\n",
       "      <td>89.375</td>\n",
       "      <td>88.483871</td>\n",
       "      <td>164.121212</td>\n",
       "    </tr>\n",
       "  </tbody>\n",
       "</table>\n",
       "</div>"
      ],
      "text/plain": [
       "Product   KP281      KP481       KP781\n",
       "Gender                                \n",
       "Female   76.200  87.344828  180.000000\n",
       "Male     89.375  88.483871  164.121212"
      ]
     },
     "execution_count": 120,
     "metadata": {},
     "output_type": "execute_result"
    }
   ],
   "source": [
    "pd.pivot_table(df,columns='Product',index='Gender',values='Miles',aggfunc='mean')"
   ]
  },
  {
   "cell_type": "code",
   "execution_count": 121,
   "id": "076866ba",
   "metadata": {},
   "outputs": [
    {
     "data": {
      "text/html": [
       "<div>\n",
       "<style scoped>\n",
       "    .dataframe tbody tr th:only-of-type {\n",
       "        vertical-align: middle;\n",
       "    }\n",
       "\n",
       "    .dataframe tbody tr th {\n",
       "        vertical-align: top;\n",
       "    }\n",
       "\n",
       "    .dataframe thead th {\n",
       "        text-align: right;\n",
       "    }\n",
       "</style>\n",
       "<table border=\"1\" class=\"dataframe\">\n",
       "  <thead>\n",
       "    <tr style=\"text-align: right;\">\n",
       "      <th>Product</th>\n",
       "      <th>KP281</th>\n",
       "      <th>KP481</th>\n",
       "      <th>KP781</th>\n",
       "    </tr>\n",
       "    <tr>\n",
       "      <th>Gender</th>\n",
       "      <th></th>\n",
       "      <th></th>\n",
       "      <th></th>\n",
       "    </tr>\n",
       "  </thead>\n",
       "  <tbody>\n",
       "    <tr>\n",
       "      <th>Female</th>\n",
       "      <td>2.900</td>\n",
       "      <td>3.137931</td>\n",
       "      <td>5.000000</td>\n",
       "    </tr>\n",
       "    <tr>\n",
       "      <th>Male</th>\n",
       "      <td>3.275</td>\n",
       "      <td>3.000000</td>\n",
       "      <td>4.727273</td>\n",
       "    </tr>\n",
       "  </tbody>\n",
       "</table>\n",
       "</div>"
      ],
      "text/plain": [
       "Product  KP281     KP481     KP781\n",
       "Gender                            \n",
       "Female   2.900  3.137931  5.000000\n",
       "Male     3.275  3.000000  4.727273"
      ]
     },
     "execution_count": 121,
     "metadata": {},
     "output_type": "execute_result"
    }
   ],
   "source": [
    "pd.pivot_table(df,columns='Product',index='Gender',values='Usage',aggfunc='mean')"
   ]
  },
  {
   "cell_type": "code",
   "execution_count": 122,
   "id": "536fe83e",
   "metadata": {},
   "outputs": [
    {
     "data": {
      "text/html": [
       "<div>\n",
       "<style scoped>\n",
       "    .dataframe tbody tr th:only-of-type {\n",
       "        vertical-align: middle;\n",
       "    }\n",
       "\n",
       "    .dataframe tbody tr th {\n",
       "        vertical-align: top;\n",
       "    }\n",
       "\n",
       "    .dataframe thead th {\n",
       "        text-align: right;\n",
       "    }\n",
       "</style>\n",
       "<table border=\"1\" class=\"dataframe\">\n",
       "  <thead>\n",
       "    <tr style=\"text-align: right;\">\n",
       "      <th>Product</th>\n",
       "      <th>KP281</th>\n",
       "      <th>KP481</th>\n",
       "      <th>KP781</th>\n",
       "    </tr>\n",
       "    <tr>\n",
       "      <th>Gender</th>\n",
       "      <th></th>\n",
       "      <th></th>\n",
       "      <th></th>\n",
       "    </tr>\n",
       "  </thead>\n",
       "  <tbody>\n",
       "    <tr>\n",
       "      <th>Female</th>\n",
       "      <td>46020.075</td>\n",
       "      <td>49336.448276</td>\n",
       "      <td>73633.857143</td>\n",
       "    </tr>\n",
       "    <tr>\n",
       "      <th>Male</th>\n",
       "      <td>46815.975</td>\n",
       "      <td>48634.258065</td>\n",
       "      <td>75825.030303</td>\n",
       "    </tr>\n",
       "  </tbody>\n",
       "</table>\n",
       "</div>"
      ],
      "text/plain": [
       "Product      KP281         KP481         KP781\n",
       "Gender                                        \n",
       "Female   46020.075  49336.448276  73633.857143\n",
       "Male     46815.975  48634.258065  75825.030303"
      ]
     },
     "execution_count": 122,
     "metadata": {},
     "output_type": "execute_result"
    }
   ],
   "source": [
    "pd.pivot_table(df,columns='Product',index='Gender',values='Income',aggfunc='mean')"
   ]
  },
  {
   "cell_type": "code",
   "execution_count": 123,
   "id": "b8a888df",
   "metadata": {},
   "outputs": [
    {
     "data": {
      "text/html": [
       "<div>\n",
       "<style scoped>\n",
       "    .dataframe tbody tr th:only-of-type {\n",
       "        vertical-align: middle;\n",
       "    }\n",
       "\n",
       "    .dataframe tbody tr th {\n",
       "        vertical-align: top;\n",
       "    }\n",
       "\n",
       "    .dataframe thead th {\n",
       "        text-align: right;\n",
       "    }\n",
       "</style>\n",
       "<table border=\"1\" class=\"dataframe\">\n",
       "  <thead>\n",
       "    <tr style=\"text-align: right;\">\n",
       "      <th>Product</th>\n",
       "      <th>KP281</th>\n",
       "      <th>KP481</th>\n",
       "      <th>KP781</th>\n",
       "    </tr>\n",
       "    <tr>\n",
       "      <th>MaritalStatus</th>\n",
       "      <th></th>\n",
       "      <th></th>\n",
       "      <th></th>\n",
       "    </tr>\n",
       "  </thead>\n",
       "  <tbody>\n",
       "    <tr>\n",
       "      <th>Partnered</th>\n",
       "      <td>3.041667</td>\n",
       "      <td>3.055556</td>\n",
       "      <td>4.913043</td>\n",
       "    </tr>\n",
       "    <tr>\n",
       "      <th>Single</th>\n",
       "      <td>3.156250</td>\n",
       "      <td>3.083333</td>\n",
       "      <td>4.588235</td>\n",
       "    </tr>\n",
       "  </tbody>\n",
       "</table>\n",
       "</div>"
      ],
      "text/plain": [
       "Product           KP281     KP481     KP781\n",
       "MaritalStatus                              \n",
       "Partnered      3.041667  3.055556  4.913043\n",
       "Single         3.156250  3.083333  4.588235"
      ]
     },
     "execution_count": 123,
     "metadata": {},
     "output_type": "execute_result"
    }
   ],
   "source": [
    "pd.pivot_table(df,columns='Product',index='MaritalStatus',values='Usage',aggfunc='mean')"
   ]
  },
  {
   "cell_type": "code",
   "execution_count": 124,
   "id": "8a499c7c",
   "metadata": {},
   "outputs": [
    {
     "data": {
      "text/html": [
       "<div>\n",
       "<style scoped>\n",
       "    .dataframe tbody tr th:only-of-type {\n",
       "        vertical-align: middle;\n",
       "    }\n",
       "\n",
       "    .dataframe tbody tr th {\n",
       "        vertical-align: top;\n",
       "    }\n",
       "\n",
       "    .dataframe thead th {\n",
       "        text-align: right;\n",
       "    }\n",
       "</style>\n",
       "<table border=\"1\" class=\"dataframe\">\n",
       "  <thead>\n",
       "    <tr style=\"text-align: right;\">\n",
       "      <th>Product</th>\n",
       "      <th>KP281</th>\n",
       "      <th>KP481</th>\n",
       "      <th>KP781</th>\n",
       "    </tr>\n",
       "    <tr>\n",
       "      <th>MaritalStatus</th>\n",
       "      <th></th>\n",
       "      <th></th>\n",
       "      <th></th>\n",
       "    </tr>\n",
       "  </thead>\n",
       "  <tbody>\n",
       "    <tr>\n",
       "      <th>Partnered</th>\n",
       "      <td>77.229167</td>\n",
       "      <td>90.055556</td>\n",
       "      <td>183.043478</td>\n",
       "    </tr>\n",
       "    <tr>\n",
       "      <th>Single</th>\n",
       "      <td>91.125000</td>\n",
       "      <td>84.750000</td>\n",
       "      <td>145.058824</td>\n",
       "    </tr>\n",
       "  </tbody>\n",
       "</table>\n",
       "</div>"
      ],
      "text/plain": [
       "Product            KP281      KP481       KP781\n",
       "MaritalStatus                                  \n",
       "Partnered      77.229167  90.055556  183.043478\n",
       "Single         91.125000  84.750000  145.058824"
      ]
     },
     "execution_count": 124,
     "metadata": {},
     "output_type": "execute_result"
    }
   ],
   "source": [
    "pd.pivot_table(df,columns='Product',index='MaritalStatus',values='Miles',aggfunc='mean')"
   ]
  }
 ],
 "metadata": {
  "kernelspec": {
   "display_name": "Python 3 (ipykernel)",
   "language": "python",
   "name": "python3"
  },
  "language_info": {
   "codemirror_mode": {
    "name": "ipython",
    "version": 3
   },
   "file_extension": ".py",
   "mimetype": "text/x-python",
   "name": "python",
   "nbconvert_exporter": "python",
   "pygments_lexer": "ipython3",
   "version": "3.9.12"
  },
  "vscode": {
   "interpreter": {
    "hash": "6e84aeba03ff6548c6c0d299f9272911d9709e039d2e237e594adc845c9a36c3"
   }
  }
 },
 "nbformat": 4,
 "nbformat_minor": 5
}
